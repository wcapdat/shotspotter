{
 "cells": [
  {
   "cell_type": "markdown",
   "metadata": {},
   "source": [
    "<h3> SENSITIVITY ANALYSIS</h3>\n",
    "In this JNB, we explore the effect of changing the threshold paramters  $\\delta$ and $\\tau$ on the linkage ratio $\\lambda(\\delta,\\tau)$.  In particular, we plot level curves for the peak months of activity (May-Aug)."
   ]
  },
  {
   "cell_type": "markdown",
   "metadata": {},
   "source": [
    "1) Import Libraries"
   ]
  },
  {
   "cell_type": "code",
   "execution_count": 1,
   "metadata": {},
   "outputs": [],
   "source": [
    "import numpy as np\n",
    "import pandas as pd\n",
    "from matplotlib import pyplot as plt"
   ]
  },
  {
   "cell_type": "markdown",
   "metadata": {},
   "source": [
    "2) Specify the Police District"
   ]
  },
  {
   "cell_type": "code",
   "execution_count": 2,
   "metadata": {},
   "outputs": [],
   "source": [
    "district=3.0"
   ]
  },
  {
   "cell_type": "markdown",
   "metadata": {},
   "source": [
    "3) Import the Chicago shotspotter data and filter for the specified district."
   ]
  },
  {
   "cell_type": "code",
   "execution_count": 3,
   "metadata": {},
   "outputs": [
    {
     "data": {
      "text/html": [
       "<div>\n",
       "<style scoped>\n",
       "    .dataframe tbody tr th:only-of-type {\n",
       "        vertical-align: middle;\n",
       "    }\n",
       "\n",
       "    .dataframe tbody tr th {\n",
       "        vertical-align: top;\n",
       "    }\n",
       "\n",
       "    .dataframe thead th {\n",
       "        text-align: right;\n",
       "    }\n",
       "</style>\n",
       "<table border=\"1\" class=\"dataframe\">\n",
       "  <thead>\n",
       "    <tr style=\"text-align: right;\">\n",
       "      <th></th>\n",
       "      <th>DATE</th>\n",
       "      <th>BLOCK</th>\n",
       "      <th>ZIP_CODE</th>\n",
       "      <th>WARD</th>\n",
       "      <th>COMMUNITY_AREA</th>\n",
       "      <th>AREA</th>\n",
       "      <th>DISTRICT</th>\n",
       "      <th>BEAT</th>\n",
       "      <th>STREET_OUTREACH_ORGANIZATION</th>\n",
       "      <th>UNIQUE_ID</th>\n",
       "      <th>...</th>\n",
       "      <th>INCIDENT_TYPE_DESCRIPTION</th>\n",
       "      <th>ROUNDS</th>\n",
       "      <th>ILLINOIS_HOUSE_DISTRICT</th>\n",
       "      <th>ILLINOIS_SENATE_DISTRICT</th>\n",
       "      <th>LATITUDE</th>\n",
       "      <th>LONGITUDE</th>\n",
       "      <th>LOCATION</th>\n",
       "      <th>time</th>\n",
       "      <th>day</th>\n",
       "      <th>YEAR</th>\n",
       "    </tr>\n",
       "  </thead>\n",
       "  <tbody>\n",
       "    <tr>\n",
       "      <th>0</th>\n",
       "      <td>11/29/2019 11:57:40 PM</td>\n",
       "      <td>7100  S RHODES AVE</td>\n",
       "      <td>60619.0</td>\n",
       "      <td>6.0</td>\n",
       "      <td>GREATER GRAND CROSSING</td>\n",
       "      <td>1.0</td>\n",
       "      <td>3.0</td>\n",
       "      <td>323.0</td>\n",
       "      <td>Acclivus Greater Grand Crossing</td>\n",
       "      <td>SST-114035</td>\n",
       "      <td>...</td>\n",
       "      <td>SINGLE GUNSHOT</td>\n",
       "      <td>1</td>\n",
       "      <td>32.0</td>\n",
       "      <td>16.0</td>\n",
       "      <td>41.764712</td>\n",
       "      <td>-87.611835</td>\n",
       "      <td>POINT (-87.611834809 41.764711658)</td>\n",
       "      <td>11:57:40</td>\n",
       "      <td>29</td>\n",
       "      <td>2019.0</td>\n",
       "    </tr>\n",
       "    <tr>\n",
       "      <th>1</th>\n",
       "      <td>02/06/2018 04:12:47 PM</td>\n",
       "      <td>NaN</td>\n",
       "      <td>60619.0</td>\n",
       "      <td>8.0</td>\n",
       "      <td>SOUTH SHORE</td>\n",
       "      <td>1.0</td>\n",
       "      <td>3.0</td>\n",
       "      <td>324.0</td>\n",
       "      <td>None</td>\n",
       "      <td>SST-1845</td>\n",
       "      <td>...</td>\n",
       "      <td>SINGLE GUNSHOT</td>\n",
       "      <td>1</td>\n",
       "      <td>5.0</td>\n",
       "      <td>3.0</td>\n",
       "      <td>41.759659</td>\n",
       "      <td>-87.592333</td>\n",
       "      <td>POINT (-87.592333 41.7596595)</td>\n",
       "      <td>04:12:47</td>\n",
       "      <td>06</td>\n",
       "      <td>2018.0</td>\n",
       "    </tr>\n",
       "    <tr>\n",
       "      <th>2</th>\n",
       "      <td>12/18/2021 08:24:07 PM</td>\n",
       "      <td>6300  S INGLESIDE AVE</td>\n",
       "      <td>60637.0</td>\n",
       "      <td>20.0</td>\n",
       "      <td>WOODLAWN</td>\n",
       "      <td>1.0</td>\n",
       "      <td>3.0</td>\n",
       "      <td>314.0</td>\n",
       "      <td>Project H.O.O.D. - Woodlawn</td>\n",
       "      <td>SST-358916</td>\n",
       "      <td>...</td>\n",
       "      <td>SINGLE GUNSHOT</td>\n",
       "      <td>1</td>\n",
       "      <td>26.0</td>\n",
       "      <td>13.0</td>\n",
       "      <td>41.779356</td>\n",
       "      <td>-87.601551</td>\n",
       "      <td>POINT (-87.601551441299 41.779356108942)</td>\n",
       "      <td>08:24:07</td>\n",
       "      <td>18</td>\n",
       "      <td>2021.0</td>\n",
       "    </tr>\n",
       "    <tr>\n",
       "      <th>3</th>\n",
       "      <td>12/17/2021 06:55:36 PM</td>\n",
       "      <td>6700  S EAST END</td>\n",
       "      <td>60649.0</td>\n",
       "      <td>5.0</td>\n",
       "      <td>SOUTH SHORE</td>\n",
       "      <td>1.0</td>\n",
       "      <td>3.0</td>\n",
       "      <td>332.0</td>\n",
       "      <td>Claretian Associates - South Shore</td>\n",
       "      <td>SST-358817</td>\n",
       "      <td>...</td>\n",
       "      <td>SINGLE GUNSHOT</td>\n",
       "      <td>1</td>\n",
       "      <td>26.0</td>\n",
       "      <td>13.0</td>\n",
       "      <td>41.771889</td>\n",
       "      <td>-87.584860</td>\n",
       "      <td>POINT (-87.58486000152 41.771889276542)</td>\n",
       "      <td>06:55:36</td>\n",
       "      <td>17</td>\n",
       "      <td>2021.0</td>\n",
       "    </tr>\n",
       "    <tr>\n",
       "      <th>4</th>\n",
       "      <td>12/18/2021 08:20:49 PM</td>\n",
       "      <td>6300  S INGLESIDE AVE</td>\n",
       "      <td>60637.0</td>\n",
       "      <td>20.0</td>\n",
       "      <td>WOODLAWN</td>\n",
       "      <td>1.0</td>\n",
       "      <td>3.0</td>\n",
       "      <td>314.0</td>\n",
       "      <td>Project H.O.O.D. - Woodlawn</td>\n",
       "      <td>SST-358914</td>\n",
       "      <td>...</td>\n",
       "      <td>MULTIPLE GUNSHOTS</td>\n",
       "      <td>9</td>\n",
       "      <td>26.0</td>\n",
       "      <td>13.0</td>\n",
       "      <td>41.779382</td>\n",
       "      <td>-87.601729</td>\n",
       "      <td>POINT (-87.601728772301 41.779381741242)</td>\n",
       "      <td>08:20:49</td>\n",
       "      <td>18</td>\n",
       "      <td>2021.0</td>\n",
       "    </tr>\n",
       "  </tbody>\n",
       "</table>\n",
       "<p>5 rows × 23 columns</p>\n",
       "</div>"
      ],
      "text/plain": [
       "                     DATE                  BLOCK  ZIP_CODE  WARD  \\\n",
       "0  11/29/2019 11:57:40 PM     7100  S RHODES AVE   60619.0   6.0   \n",
       "1  02/06/2018 04:12:47 PM                    NaN   60619.0   8.0   \n",
       "2  12/18/2021 08:24:07 PM  6300  S INGLESIDE AVE   60637.0  20.0   \n",
       "3  12/17/2021 06:55:36 PM       6700  S EAST END   60649.0   5.0   \n",
       "4  12/18/2021 08:20:49 PM  6300  S INGLESIDE AVE   60637.0  20.0   \n",
       "\n",
       "           COMMUNITY_AREA  AREA  DISTRICT   BEAT  \\\n",
       "0  GREATER GRAND CROSSING   1.0       3.0  323.0   \n",
       "1             SOUTH SHORE   1.0       3.0  324.0   \n",
       "2                WOODLAWN   1.0       3.0  314.0   \n",
       "3             SOUTH SHORE   1.0       3.0  332.0   \n",
       "4                WOODLAWN   1.0       3.0  314.0   \n",
       "\n",
       "         STREET_OUTREACH_ORGANIZATION   UNIQUE_ID  ...  \\\n",
       "0     Acclivus Greater Grand Crossing  SST-114035  ...   \n",
       "1                                None    SST-1845  ...   \n",
       "2         Project H.O.O.D. - Woodlawn  SST-358916  ...   \n",
       "3  Claretian Associates - South Shore  SST-358817  ...   \n",
       "4         Project H.O.O.D. - Woodlawn  SST-358914  ...   \n",
       "\n",
       "   INCIDENT_TYPE_DESCRIPTION  ROUNDS  ILLINOIS_HOUSE_DISTRICT  \\\n",
       "0             SINGLE GUNSHOT       1                     32.0   \n",
       "1             SINGLE GUNSHOT       1                      5.0   \n",
       "2             SINGLE GUNSHOT       1                     26.0   \n",
       "3             SINGLE GUNSHOT       1                     26.0   \n",
       "4          MULTIPLE GUNSHOTS       9                     26.0   \n",
       "\n",
       "  ILLINOIS_SENATE_DISTRICT   LATITUDE  LONGITUDE  \\\n",
       "0                     16.0  41.764712 -87.611835   \n",
       "1                      3.0  41.759659 -87.592333   \n",
       "2                     13.0  41.779356 -87.601551   \n",
       "3                     13.0  41.771889 -87.584860   \n",
       "4                     13.0  41.779382 -87.601729   \n",
       "\n",
       "                                   LOCATION      time  day    YEAR  \n",
       "0        POINT (-87.611834809 41.764711658)  11:57:40   29  2019.0  \n",
       "1             POINT (-87.592333 41.7596595)  04:12:47   06  2018.0  \n",
       "2  POINT (-87.601551441299 41.779356108942)  08:24:07   18  2021.0  \n",
       "3   POINT (-87.58486000152 41.771889276542)  06:55:36   17  2021.0  \n",
       "4  POINT (-87.601728772301 41.779381741242)  08:20:49   18  2021.0  \n",
       "\n",
       "[5 rows x 23 columns]"
      ]
     },
     "execution_count": 3,
     "metadata": {},
     "output_type": "execute_result"
    }
   ],
   "source": [
    "shot_data_raw = pd.read_csv('Shotspotter_2022.csv')\n",
    "shot_data_raw=shot_data_raw[shot_data_raw[\"DISTRICT\"]==district]\n",
    "for i in shot_data_raw.index:\n",
    "    x=shot_data_raw.loc[i,\"DATE\"]\n",
    "    x1=x.split(' ')\n",
    "    x2=x1[0].split('/')\n",
    "    shot_data_raw.loc[i,\"time\"]=x1[1]\n",
    "    shot_data_raw.loc[i,'MONTH'] =int(x2[0])\n",
    "    shot_data_raw.loc[i,\"day\"]=x2[1]\n",
    "    shot_data_raw.loc[i,\"YEAR\"]=int(x2[2])\n",
    "shot_data_raw=shot_data_raw.reset_index(drop=True)\n",
    "shot_data_raw.head(5)"
   ]
  },
  {
   "cell_type": "markdown",
   "metadata": {},
   "source": [
    "3) Streamline the dataframe."
   ]
  },
  {
   "cell_type": "code",
   "execution_count": 4,
   "metadata": {},
   "outputs": [
    {
     "data": {
      "text/html": [
       "<div>\n",
       "<style scoped>\n",
       "    .dataframe tbody tr th:only-of-type {\n",
       "        vertical-align: middle;\n",
       "    }\n",
       "\n",
       "    .dataframe tbody tr th {\n",
       "        vertical-align: top;\n",
       "    }\n",
       "\n",
       "    .dataframe thead th {\n",
       "        text-align: right;\n",
       "    }\n",
       "</style>\n",
       "<table border=\"1\" class=\"dataframe\">\n",
       "  <thead>\n",
       "    <tr style=\"text-align: right;\">\n",
       "      <th></th>\n",
       "      <th>DATE</th>\n",
       "      <th>YEAR</th>\n",
       "      <th>MONTH</th>\n",
       "      <th>LATITUDE</th>\n",
       "      <th>LONGITUDE</th>\n",
       "      <th>LOCATION</th>\n",
       "    </tr>\n",
       "  </thead>\n",
       "  <tbody>\n",
       "    <tr>\n",
       "      <th>0</th>\n",
       "      <td>11/29/2019 11:57:40 PM</td>\n",
       "      <td>2019.0</td>\n",
       "      <td>11</td>\n",
       "      <td>41.764712</td>\n",
       "      <td>-87.611835</td>\n",
       "      <td>POINT (-87.611834809 41.764711658)</td>\n",
       "    </tr>\n",
       "    <tr>\n",
       "      <th>1</th>\n",
       "      <td>02/06/2018 04:12:47 PM</td>\n",
       "      <td>2018.0</td>\n",
       "      <td>2</td>\n",
       "      <td>41.759659</td>\n",
       "      <td>-87.592333</td>\n",
       "      <td>POINT (-87.592333 41.7596595)</td>\n",
       "    </tr>\n",
       "    <tr>\n",
       "      <th>2</th>\n",
       "      <td>12/18/2021 08:24:07 PM</td>\n",
       "      <td>2021.0</td>\n",
       "      <td>12</td>\n",
       "      <td>41.779356</td>\n",
       "      <td>-87.601551</td>\n",
       "      <td>POINT (-87.601551441299 41.779356108942)</td>\n",
       "    </tr>\n",
       "    <tr>\n",
       "      <th>3</th>\n",
       "      <td>12/17/2021 06:55:36 PM</td>\n",
       "      <td>2021.0</td>\n",
       "      <td>12</td>\n",
       "      <td>41.771889</td>\n",
       "      <td>-87.584860</td>\n",
       "      <td>POINT (-87.58486000152 41.771889276542)</td>\n",
       "    </tr>\n",
       "    <tr>\n",
       "      <th>4</th>\n",
       "      <td>12/18/2021 08:20:49 PM</td>\n",
       "      <td>2021.0</td>\n",
       "      <td>12</td>\n",
       "      <td>41.779382</td>\n",
       "      <td>-87.601729</td>\n",
       "      <td>POINT (-87.601728772301 41.779381741242)</td>\n",
       "    </tr>\n",
       "  </tbody>\n",
       "</table>\n",
       "</div>"
      ],
      "text/plain": [
       "                     DATE    YEAR  MONTH   LATITUDE  LONGITUDE  \\\n",
       "0  11/29/2019 11:57:40 PM  2019.0     11  41.764712 -87.611835   \n",
       "1  02/06/2018 04:12:47 PM  2018.0      2  41.759659 -87.592333   \n",
       "2  12/18/2021 08:24:07 PM  2021.0     12  41.779356 -87.601551   \n",
       "3  12/17/2021 06:55:36 PM  2021.0     12  41.771889 -87.584860   \n",
       "4  12/18/2021 08:20:49 PM  2021.0     12  41.779382 -87.601729   \n",
       "\n",
       "                                   LOCATION  \n",
       "0        POINT (-87.611834809 41.764711658)  \n",
       "1             POINT (-87.592333 41.7596595)  \n",
       "2  POINT (-87.601551441299 41.779356108942)  \n",
       "3   POINT (-87.58486000152 41.771889276542)  \n",
       "4  POINT (-87.601728772301 41.779381741242)  "
      ]
     },
     "execution_count": 4,
     "metadata": {},
     "output_type": "execute_result"
    }
   ],
   "source": [
    "shot_data_raw=shot_data_raw[[\"DATE\",\"YEAR\",\"MONTH\",\"LATITUDE\",\"LONGITUDE\",\"LOCATION\"]]\n",
    "shot_data_raw.head(5)"
   ]
  },
  {
   "cell_type": "markdown",
   "metadata": {},
   "source": [
    "5) Read in the shooting event data."
   ]
  },
  {
   "cell_type": "code",
   "execution_count": 5,
   "metadata": {},
   "outputs": [
    {
     "data": {
      "text/plain": [
       "Index(['CASE_NUMBER', 'DATE', 'BLOCK', 'VICTIMIZATION_PRIMARY',\n",
       "       'INCIDENT_PRIMARY', 'GUNSHOT_INJURY_I', 'UNIQUE_ID', 'ZIP_CODE', 'WARD',\n",
       "       'COMMUNITY_AREA', 'STREET_OUTREACH_ORGANIZATION', 'AREA', 'DISTRICT',\n",
       "       'BEAT', 'AGE', 'SEX', 'RACE', 'VICTIMIZATION_FBI_CD', 'INCIDENT_FBI_CD',\n",
       "       'VICTIMIZATION_FBI_DESCR', 'INCIDENT_FBI_DESCR',\n",
       "       'VICTIMIZATION_IUCR_CD', 'INCIDENT_IUCR_CD',\n",
       "       'VICTIMIZATION_IUCR_SECONDARY', 'INCIDENT_IUCR_SECONDARY',\n",
       "       'HOMICIDE_VICTIM_FIRST_NAME', 'HOMICIDE_VICTIM_MI',\n",
       "       'HOMICIDE_VICTIM_LAST_NAME', 'MONTH', 'DAY_OF_WEEK', 'HOUR',\n",
       "       'LOCATION_DESCRIPTION', 'STATE_HOUSE_DISTRICT', 'STATE_SENATE_DISTRICT',\n",
       "       'UPDATED', 'LATITUDE', 'LONGITUDE', 'LOCATION', 'YEAR'],\n",
       "      dtype='object')"
      ]
     },
     "execution_count": 5,
     "metadata": {},
     "output_type": "execute_result"
    }
   ],
   "source": [
    "hom_data_raw = pd.read_csv('Homicide_data_to_2022.csv')\n",
    "for i in hom_data_raw.index:\n",
    "    x=hom_data_raw.loc[i,\"DATE\"]\n",
    "    x1=x.split(' ')\n",
    "    x2=x1[0].split('/')\n",
    "    hom_data_raw.loc[i,'MONTH'] =int(x2[0])\n",
    "    hom_data_raw.loc[i,\"YEAR\"]=int(x2[2])\n",
    "hom_data_raw.columns"
   ]
  },
  {
   "cell_type": "markdown",
   "metadata": {},
   "source": [
    "6) Filter the shooting data for D3 and create a column \"spotted\" to indicate which events are linked to shotspotter incidents (note that there might be several linked shooting and shotspotter incidents based on the threshold values)."
   ]
  },
  {
   "cell_type": "code",
   "execution_count": 6,
   "metadata": {},
   "outputs": [
    {
     "data": {
      "text/html": [
       "<div>\n",
       "<style scoped>\n",
       "    .dataframe tbody tr th:only-of-type {\n",
       "        vertical-align: middle;\n",
       "    }\n",
       "\n",
       "    .dataframe tbody tr th {\n",
       "        vertical-align: top;\n",
       "    }\n",
       "\n",
       "    .dataframe thead th {\n",
       "        text-align: right;\n",
       "    }\n",
       "</style>\n",
       "<table border=\"1\" class=\"dataframe\">\n",
       "  <thead>\n",
       "    <tr style=\"text-align: right;\">\n",
       "      <th></th>\n",
       "      <th>DATE</th>\n",
       "      <th>YEAR</th>\n",
       "      <th>MONTH</th>\n",
       "      <th>DISTRICT</th>\n",
       "      <th>LATITUDE</th>\n",
       "      <th>LONGITUDE</th>\n",
       "      <th>LOCATION</th>\n",
       "      <th>spotted</th>\n",
       "    </tr>\n",
       "  </thead>\n",
       "  <tbody>\n",
       "    <tr>\n",
       "      <th>0</th>\n",
       "      <td>01/23/1996 04:35:00 PM</td>\n",
       "      <td>1996.0</td>\n",
       "      <td>1</td>\n",
       "      <td>3.0</td>\n",
       "      <td>41.784330</td>\n",
       "      <td>-87.613289</td>\n",
       "      <td>POINT (-87.613288547471 41.784329668947)</td>\n",
       "      <td>0</td>\n",
       "    </tr>\n",
       "    <tr>\n",
       "      <th>1</th>\n",
       "      <td>02/04/1996 07:00:00 AM</td>\n",
       "      <td>1996.0</td>\n",
       "      <td>2</td>\n",
       "      <td>3.0</td>\n",
       "      <td>41.765432</td>\n",
       "      <td>-87.614685</td>\n",
       "      <td>POINT (-87.61468534612 41.765431654142)</td>\n",
       "      <td>0</td>\n",
       "    </tr>\n",
       "  </tbody>\n",
       "</table>\n",
       "</div>"
      ],
      "text/plain": [
       "                     DATE    YEAR  MONTH  DISTRICT   LATITUDE  LONGITUDE  \\\n",
       "0  01/23/1996 04:35:00 PM  1996.0      1       3.0  41.784330 -87.613289   \n",
       "1  02/04/1996 07:00:00 AM  1996.0      2       3.0  41.765432 -87.614685   \n",
       "\n",
       "                                   LOCATION  spotted  \n",
       "0  POINT (-87.613288547471 41.784329668947)        0  \n",
       "1   POINT (-87.61468534612 41.765431654142)        0  "
      ]
     },
     "execution_count": 6,
     "metadata": {},
     "output_type": "execute_result"
    }
   ],
   "source": [
    "hom_data_raw= hom_data_raw[['DATE','YEAR','MONTH','DISTRICT','LATITUDE', 'LONGITUDE','LOCATION']]\n",
    "hom_data_raw= hom_data_raw[hom_data_raw['DISTRICT'] == int(district)]\n",
    "hom_data_raw= hom_data_raw.reset_index(drop=True)\n",
    "hom_data_raw['spotted'] = 0\n",
    "hom_data_raw.columns=[\"DATE\",\"YEAR\",\"MONTH\",\"DISTRICT\",\"LATITUDE\",\"LONGITUDE\",\"LOCATION\",\"spotted\"]\n",
    "hom_data_raw.head(2)"
   ]
  },
  {
   "cell_type": "markdown",
   "metadata": {},
   "source": [
    "7) Import libraries used to link positions and times of shotspotter and shooting incidents."
   ]
  },
  {
   "cell_type": "code",
   "execution_count": 7,
   "metadata": {},
   "outputs": [],
   "source": [
    "!!pip install geopy\n",
    "from geopy import distance\n",
    "import datetime\n",
    "import re"
   ]
  },
  {
   "cell_type": "markdown",
   "metadata": {},
   "source": [
    "8) Create variables 'strdate1' and 'strdate2' with date and time information for the 3rd shooting and 1st shot spotter incidents."
   ]
  },
  {
   "cell_type": "code",
   "execution_count": 8,
   "metadata": {},
   "outputs": [
    {
     "name": "stdout",
     "output_type": "stream",
     "text": [
      "Distance between events is  2.354708531946193  km\n",
      "1996-02-10 07:30:00\n",
      "2018-02-06 04:12:47\n",
      "Time between events is  -11565882\n"
     ]
    }
   ],
   "source": [
    "pt1 = [hom_data_raw.loc[3,\"LATITUDE\"],hom_data_raw.loc[3,\"LONGITUDE\"]]\n",
    "pt2 = [shot_data_raw.loc[1,\"LATITUDE\"],shot_data_raw.loc[1,\"LONGITUDE\"]]\n",
    "print(\"Distance between events is \", distance.distance(pt1, pt2).km, ' km')\n",
    "strdate1 = hom_data_raw.loc[3,\"DATE\"]\n",
    "strdate2 = shot_data_raw.loc[1,\"DATE\"]\n",
    "date1 = datetime.datetime.strptime(strdate1, \"%m/%d/%Y %H:%M:%S %p\")\n",
    "date2 = datetime.datetime.strptime(strdate2, \"%m/%d/%Y %H:%M:%S %p\")\n",
    "dt = date1-date2\n",
    "print(date1)\n",
    "print(date2)\n",
    "print(\"Time between events is \", int(dt.total_seconds()/60))"
   ]
  },
  {
   "cell_type": "markdown",
   "metadata": {},
   "source": [
    "<h3>Problem</h3>\n",
    "Plot level curves which show the linkage ratio $\\lambda(\\delta,\\tau)$ for $0\\le \\delta=.3$ km and $0\\le \\tau \\le$ 30 minutes.\n"
   ]
  },
  {
   "cell_type": "markdown",
   "metadata": {},
   "source": [
    "a) Function to process data and get linking distribution for a specified year and month"
   ]
  },
  {
   "cell_type": "code",
   "execution_count": 9,
   "metadata": {},
   "outputs": [],
   "source": [
    "def LD(hom_data,shot_data,year,month,delta,tau):\n",
    "    #install libraries\n",
    "    from geopy import distance\n",
    "    import datetime\n",
    "    #get the threshold values\n",
    "    delta = delta\n",
    "    tau = tau\n",
    "    hom_data = hom_data[hom_data[\"YEAR\"]==year]\n",
    "    shot_data = shot_data[shot_data[\"YEAR\"]==year]\n",
    "    hom_data = hom_data[hom_data[\"MONTH\"]==month]\n",
    "    shot_data = shot_data[shot_data[\"MONTH\"]==month]\n",
    "    shot_data = shot_data.reset_index(drop = True)\n",
    "    hom_data = hom_data.reset_index(drop=True)\n",
    "    #define the function to determine linkage of shotspotter and shooting incidents based on the threshold values\n",
    "    def linked(P, T, delta, tau):\n",
    "        for k in range(P.shape[0]):\n",
    "            for q in range(P.shape[1]):\n",
    "                if P[k][q] < delta and T[k][q] < tau and T[k][q] >= 0:\n",
    "                    hom_data.loc[k, 'spotted'] = hom_data.loc[k,'spotted']+ 1\n",
    "    #Create the P and T matrices\n",
    "    P = np.zeros((hom_data.shape[0], shot_data.shape[0]))\n",
    "    T = np.zeros((hom_data.shape[0], shot_data.shape[0]))\n",
    "    for i in hom_data.index:\n",
    "        for j in shot_data.index:\n",
    "            location1 = hom_data.loc[i,\"LOCATION\"]\n",
    "            location2 = shot_data.loc[j,\"LOCATION\"]\n",
    "            a1 = location1.split(' ')\n",
    "            a2 = location2.split(' ')\n",
    "            #pt1 = [float(re.sub('[^0-9.-]','', a1[2])),float(re.sub('[^0-9.-]','', a1[1]))]\n",
    "            #pt2 = [float(re.sub('[^0-9.-]','', a2[2])),float(re.sub('[^0-9.-]','', a2[1]))]\n",
    "            pt1 = [hom_data.loc[i,\"LATITUDE\"],hom_data.loc[i,\"LONGITUDE\"]]\n",
    "            pt2 = [shot_data.loc[j,\"LATITUDE\"],shot_data.loc[j,\"LONGITUDE\"]]\n",
    "            P[i][j] = distance.distance(pt1, pt2).km\n",
    "            strdate1 = hom_data.loc[i,\"DATE\"]\n",
    "            strdate2 = shot_data.loc[j,\"DATE\"]\n",
    "            date1 = datetime.datetime.strptime(strdate1, \"%m/%d/%Y %H:%M:%S %p\")\n",
    "            date2 = datetime.datetime.strptime(strdate2, \"%m/%d/%Y %H:%M:%S %p\")\n",
    "            dt = date1-date2\n",
    "            T[i][j] = int(dt.total_seconds() / 60)\n",
    "    #Apply the function linked to the P and T matrices\n",
    "    linked(P,T,delta,tau)\n",
    "    #return the linking distribution\n",
    "    return hom_data['spotted'].value_counts()"
   ]
  },
  {
   "cell_type": "markdown",
   "metadata": {},
   "source": [
    "b) Function to get for a specified year the monthly linkage ratio, total number of shooting incidents, and number of linked shooting incidents"
   ]
  },
  {
   "cell_type": "code",
   "execution_count": 10,
   "metadata": {},
   "outputs": [],
   "source": [
    "def linkageratio(year,delta,tau,hom_data_raw,shot_data_raw):\n",
    "    tot= [[]] * 12\n",
    "    linked = [[]] * 12\n",
    "    ratio = [[]]*12\n",
    "    L = [[]]*12\n",
    "    for mo in np.arange(0,12,1):\n",
    "        L[mo]=LD(hom_data_raw,shot_data_raw,year,mo+1,delta,tau)\n",
    "        tot[mo] = np.sum(L[mo])\n",
    "        if 0 in L[mo].index:\n",
    "            linked[mo] = tot[mo]-L[mo][0]\n",
    "        else:\n",
    "            linked[mo] = tot[mo]\n",
    "        ratio[mo] = linked[mo]/tot[mo]\n",
    "    return [ratio,linked,tot]"
   ]
  },
  {
   "cell_type": "code",
   "execution_count": 11,
   "metadata": {},
   "outputs": [],
   "source": [
    "#use to store specified year linkage ratios. linked shooting incidents, and total shooting incidents\n",
    "yrtot= [[]] * 4\n",
    "yrlinked=[[]]*4\n",
    "yrratio=[[]]*4"
   ]
  },
  {
   "cell_type": "markdown",
   "metadata": {},
   "source": [
    "c) Define a function $LR(\\delta,\\tau)$ which determines the linkage ratio for a specified year as a funcion of the threshold values $\\delta$ and $\\tau$."
   ]
  },
  {
   "cell_type": "code",
   "execution_count": 12,
   "metadata": {},
   "outputs": [],
   "source": [
    "def LR(year,delta,tau,hom_data_raw,shot_data_raw):\n",
    "    [yrratio[0],yrlinked[0],yrtot[0]]=linkageratio(2018,delta,tau,hom_data_raw,shot_data_raw) #year 0 =2018\n",
    "    return yrratio[0]"
   ]
  },
  {
   "cell_type": "markdown",
   "metadata": {},
   "source": [
    "d) Make level curves for $LR(\\delta,\\tau)$"
   ]
  },
  {
   "cell_type": "code",
   "execution_count": 13,
   "metadata": {},
   "outputs": [],
   "source": [
    "import numpy as np\n",
    "import matplotlib.pyplot as plt\n",
    "import pylab"
   ]
  },
  {
   "cell_type": "code",
   "execution_count": 16,
   "metadata": {},
   "outputs": [
    {
     "data": {
      "image/png": "[encoded data removed]",
      "text/plain": [
       "<Figure size 360x360 with 1 Axes>"
      ]
     },
     "metadata": {
      "needs_background": "light"
     },
     "output_type": "display_data"
    }
   ],
   "source": [
    "import numpy as np\n",
    "from matplotlib import rcParams\n",
    "# Initialize plot objects\n",
    "rcParams['figure.figsize'] = 5, 5 # sets plot size\n",
    "fig = plt.figure()\n",
    "ax = fig.add_subplot(111)\n",
    "\n",
    "# Define levels in z-axis where we want lines to appear\n",
    "levels = np.array([0,.025,.05,.1,.2,.3,.35,.4,.45,.5])\n",
    "\n",
    "N=10\n",
    "M=10\n",
    "\n",
    "# List of points in x axis\n",
    "DeltaPoints     = []\n",
    "\n",
    "# List of points in y axis\n",
    "TauPoints     = []\n",
    "\n",
    "# Delta points are from 0 to .3 divided evenly into N testpoints\n",
    "for val in np.linspace(0, .36, N):\n",
    "    DeltaPoints.append(val)\n",
    "    \n",
    "# Tau points are from 0 to 30 divided evenly into M testpoints\n",
    "for val in np.linspace(0, 36, M):\n",
    "    TauPoints.append(val)\n",
    "    \n",
    "X, Y = np.meshgrid(DeltaPoints,TauPoints)\n",
    "    \n",
    "# Populate L(delta,tau) for year=2020\n",
    "year=2020\n",
    "\n",
    "L     = np.ndarray((N,M))\n",
    "\n",
    "for d in np.arange(0,N,1):\n",
    "    for t in np.arange(0,M,1):\n",
    "           L[d][t] = np.sum(LR(year,DeltaPoints[d],TauPoints[t],hom_data_raw,shot_data_raw))/12\n",
    "\n",
    "# Generate a color mapping of the levels we've specified\n",
    "import matplotlib.cm as cm # matplotlib's color map library\n",
    "cpf = ax.contourf(X,Y,L, len(levels), cmap=cm.Reds)\n",
    "\n",
    "# Set all level lines to black\n",
    "line_colors = ['black' for l in cpf.levels]\n",
    "\n",
    "# Make plot and customize axes\n",
    "cp = ax.contour(X, Y, L, levels=levels, colors=line_colors)\n",
    "ax.clabel(cp, fontsize=10, colors=line_colors)\n",
    "plt.xticks(np.arange(0,.36,.05))\n",
    "plt.yticks(np.arange(0,36,5))\n",
    "ax.set_xlabel('Delta')\n",
    "_ = ax.set_ylabel('Tau')\n",
    "plt.savefig('sensitivity.png') # uncomment to save vector/high-res version\n",
    "plt.show()"
   ]
  }
 ],
 "metadata": {
  "kernelspec": {
   "display_name": "Python 3",
   "language": "python",
   "name": "python3"
  },
  "language_info": {
   "codemirror_mode": {
    "name": "ipython",
    "version": 3
   },
   "file_extension": ".py",
   "mimetype": "text/x-python",
   "name": "python",
   "nbconvert_exporter": "python",
   "pygments_lexer": "ipython3",
   "version": "3.8.3"
  }
 },
 "nbformat": 4,
 "nbformat_minor": 4
}
