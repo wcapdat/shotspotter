{
 "cells": [
  {
   "cell_type": "markdown",
   "metadata": {},
   "source": [
    "<h3> SENSITIVITY ANALYSIS</h3>\n",
    "In this JNB, we explore the effect of changing the threshold paramters  $\\delta$ and $\\tau$ on the linkage ratio $\\lambda(\\delta,\\tau)$.  In particular, we plot level curves for the peak months of activity (May-Aug)."
   ]
  },
  {
   "cell_type": "markdown",
   "metadata": {},
   "source": [
    "1) Import Libraries"
   ]
  },
  {
   "cell_type": "code",
   "execution_count": 1,
   "metadata": {},
   "outputs": [],
   "source": [
    "import numpy as np\n",
    "import pandas as pd\n",
    "from matplotlib import pyplot as plt"
   ]
  },
  {
   "cell_type": "markdown",
   "metadata": {},
   "source": [
    "2) Specify the Police District"
   ]
  },
  {
   "cell_type": "code",
   "execution_count": 2,
   "metadata": {},
   "outputs": [],
   "source": [
    "district=3.0"
   ]
  },
  {
   "cell_type": "markdown",
   "metadata": {},
   "source": [
    "3) Import the Chicago shotspotter data and filter for the specified district."
   ]
  },
  {
   "cell_type": "code",
   "execution_count": 3,
   "metadata": {},
   "outputs": [
    {
     "data": {
      "text/html": [
       "<div>\n",
       "<style scoped>\n",
       "    .dataframe tbody tr th:only-of-type {\n",
       "        vertical-align: middle;\n",
       "    }\n",
       "\n",
       "    .dataframe tbody tr th {\n",
       "        vertical-align: top;\n",
       "    }\n",
       "\n",
       "    .dataframe thead th {\n",
       "        text-align: right;\n",
       "    }\n",
       "</style>\n",
       "<table border=\"1\" class=\"dataframe\">\n",
       "  <thead>\n",
       "    <tr style=\"text-align: right;\">\n",
       "      <th></th>\n",
       "      <th>DATE</th>\n",
       "      <th>BLOCK</th>\n",
       "      <th>ZIP_CODE</th>\n",
       "      <th>WARD</th>\n",
       "      <th>COMMUNITY_AREA</th>\n",
       "      <th>AREA</th>\n",
       "      <th>DISTRICT</th>\n",
       "      <th>BEAT</th>\n",
       "      <th>STREET_OUTREACH_ORGANIZATION</th>\n",
       "      <th>UNIQUE_ID</th>\n",
       "      <th>...</th>\n",
       "      <th>INCIDENT_TYPE_DESCRIPTION</th>\n",
       "      <th>ROUNDS</th>\n",
       "      <th>ILLINOIS_HOUSE_DISTRICT</th>\n",
       "      <th>ILLINOIS_SENATE_DISTRICT</th>\n",
       "      <th>LATITUDE</th>\n",
       "      <th>LONGITUDE</th>\n",
       "      <th>LOCATION</th>\n",
       "      <th>time</th>\n",
       "      <th>day</th>\n",
       "      <th>YEAR</th>\n",
       "    </tr>\n",
       "  </thead>\n",
       "  <tbody>\n",
       "    <tr>\n",
       "      <th>0</th>\n",
       "      <td>1/29/2018 15:27</td>\n",
       "      <td>NaN</td>\n",
       "      <td>60637.0</td>\n",
       "      <td>20.0</td>\n",
       "      <td>GREATER GRAND CROSSING</td>\n",
       "      <td>1.0</td>\n",
       "      <td>3.0</td>\n",
       "      <td>322.0</td>\n",
       "      <td>Acclivus Greater Grand Crossing</td>\n",
       "      <td>SST-1628</td>\n",
       "      <td>...</td>\n",
       "      <td>SINGLE GUNSHOT</td>\n",
       "      <td>1</td>\n",
       "      <td>32.0</td>\n",
       "      <td>16.0</td>\n",
       "      <td>41.772790</td>\n",
       "      <td>-87.618193</td>\n",
       "      <td>POINT (-87.61819334612 41.772790345858)</td>\n",
       "      <td>15:27</td>\n",
       "      <td>29</td>\n",
       "      <td>2018.0</td>\n",
       "    </tr>\n",
       "    <tr>\n",
       "      <th>1</th>\n",
       "      <td>1/30/2018 18:43</td>\n",
       "      <td>7000  S STONY ISLAND</td>\n",
       "      <td>60649.0</td>\n",
       "      <td>5.0</td>\n",
       "      <td>SOUTH SHORE</td>\n",
       "      <td>1.0</td>\n",
       "      <td>3.0</td>\n",
       "      <td>332.0</td>\n",
       "      <td>Claretian Associates South Shore</td>\n",
       "      <td>SST-1662</td>\n",
       "      <td>...</td>\n",
       "      <td>SINGLE GUNSHOT</td>\n",
       "      <td>1</td>\n",
       "      <td>26.0</td>\n",
       "      <td>13.0</td>\n",
       "      <td>41.766797</td>\n",
       "      <td>-87.585398</td>\n",
       "      <td>POINT (-87.58539765388 41.766797345858)</td>\n",
       "      <td>18:43</td>\n",
       "      <td>30</td>\n",
       "      <td>2018.0</td>\n",
       "    </tr>\n",
       "    <tr>\n",
       "      <th>2</th>\n",
       "      <td>1/31/2018 1:45</td>\n",
       "      <td>NaN</td>\n",
       "      <td>60649.0</td>\n",
       "      <td>5.0</td>\n",
       "      <td>SOUTH SHORE</td>\n",
       "      <td>1.0</td>\n",
       "      <td>3.0</td>\n",
       "      <td>332.0</td>\n",
       "      <td>Claretian Associates South Shore</td>\n",
       "      <td>SST-1670</td>\n",
       "      <td>...</td>\n",
       "      <td>GUNSHOT OR FIRECRACKER</td>\n",
       "      <td>1</td>\n",
       "      <td>25.0</td>\n",
       "      <td>13.0</td>\n",
       "      <td>41.773760</td>\n",
       "      <td>-87.581308</td>\n",
       "      <td>POINT (-87.581307547471 41.773759668947)</td>\n",
       "      <td>1:45</td>\n",
       "      <td>31</td>\n",
       "      <td>2018.0</td>\n",
       "    </tr>\n",
       "    <tr>\n",
       "      <th>3</th>\n",
       "      <td>2/1/2018 17:51</td>\n",
       "      <td>NaN</td>\n",
       "      <td>60637.0</td>\n",
       "      <td>20.0</td>\n",
       "      <td>WOODLAWN</td>\n",
       "      <td>1.0</td>\n",
       "      <td>3.0</td>\n",
       "      <td>312.0</td>\n",
       "      <td>Project H.O.O.D. Woodlawn</td>\n",
       "      <td>SST-1715</td>\n",
       "      <td>...</td>\n",
       "      <td>GUNSHOT OR FIRECRACKER</td>\n",
       "      <td>12</td>\n",
       "      <td>5.0</td>\n",
       "      <td>3.0</td>\n",
       "      <td>41.778602</td>\n",
       "      <td>-87.609718</td>\n",
       "      <td>POINT (-87.609718 41.7786015)</td>\n",
       "      <td>17:51</td>\n",
       "      <td>1</td>\n",
       "      <td>2018.0</td>\n",
       "    </tr>\n",
       "    <tr>\n",
       "      <th>4</th>\n",
       "      <td>2/1/2018 19:29</td>\n",
       "      <td>6600  S LANGLEY AVE</td>\n",
       "      <td>60637.0</td>\n",
       "      <td>20.0</td>\n",
       "      <td>WOODLAWN</td>\n",
       "      <td>1.0</td>\n",
       "      <td>3.0</td>\n",
       "      <td>321.0</td>\n",
       "      <td>None</td>\n",
       "      <td>SST-1720</td>\n",
       "      <td>...</td>\n",
       "      <td>MULTIPLE GUNSHOTS</td>\n",
       "      <td>7</td>\n",
       "      <td>5.0</td>\n",
       "      <td>3.0</td>\n",
       "      <td>41.773794</td>\n",
       "      <td>-87.608251</td>\n",
       "      <td>POINT (-87.608250547471 41.773793668947)</td>\n",
       "      <td>19:29</td>\n",
       "      <td>1</td>\n",
       "      <td>2018.0</td>\n",
       "    </tr>\n",
       "  </tbody>\n",
       "</table>\n",
       "<p>5 rows × 23 columns</p>\n",
       "</div>"
      ],
      "text/plain": [
       "              DATE                 BLOCK  ZIP_CODE  WARD  \\\n",
       "0  1/29/2018 15:27                   NaN   60637.0  20.0   \n",
       "1  1/30/2018 18:43  7000  S STONY ISLAND   60649.0   5.0   \n",
       "2   1/31/2018 1:45                   NaN   60649.0   5.0   \n",
       "3   2/1/2018 17:51                   NaN   60637.0  20.0   \n",
       "4   2/1/2018 19:29   6600  S LANGLEY AVE   60637.0  20.0   \n",
       "\n",
       "           COMMUNITY_AREA  AREA  DISTRICT   BEAT  \\\n",
       "0  GREATER GRAND CROSSING   1.0       3.0  322.0   \n",
       "1             SOUTH SHORE   1.0       3.0  332.0   \n",
       "2             SOUTH SHORE   1.0       3.0  332.0   \n",
       "3                WOODLAWN   1.0       3.0  312.0   \n",
       "4                WOODLAWN   1.0       3.0  321.0   \n",
       "\n",
       "       STREET_OUTREACH_ORGANIZATION UNIQUE_ID   ...    \\\n",
       "0   Acclivus Greater Grand Crossing  SST-1628   ...     \n",
       "1  Claretian Associates South Shore  SST-1662   ...     \n",
       "2  Claretian Associates South Shore  SST-1670   ...     \n",
       "3         Project H.O.O.D. Woodlawn  SST-1715   ...     \n",
       "4                              None  SST-1720   ...     \n",
       "\n",
       "   INCIDENT_TYPE_DESCRIPTION  ROUNDS  ILLINOIS_HOUSE_DISTRICT  \\\n",
       "0             SINGLE GUNSHOT       1                     32.0   \n",
       "1             SINGLE GUNSHOT       1                     26.0   \n",
       "2     GUNSHOT OR FIRECRACKER       1                     25.0   \n",
       "3     GUNSHOT OR FIRECRACKER      12                      5.0   \n",
       "4          MULTIPLE GUNSHOTS       7                      5.0   \n",
       "\n",
       "  ILLINOIS_SENATE_DISTRICT   LATITUDE  LONGITUDE  \\\n",
       "0                     16.0  41.772790 -87.618193   \n",
       "1                     13.0  41.766797 -87.585398   \n",
       "2                     13.0  41.773760 -87.581308   \n",
       "3                      3.0  41.778602 -87.609718   \n",
       "4                      3.0  41.773794 -87.608251   \n",
       "\n",
       "                                   LOCATION   time  day    YEAR  \n",
       "0   POINT (-87.61819334612 41.772790345858)  15:27   29  2018.0  \n",
       "1   POINT (-87.58539765388 41.766797345858)  18:43   30  2018.0  \n",
       "2  POINT (-87.581307547471 41.773759668947)   1:45   31  2018.0  \n",
       "3             POINT (-87.609718 41.7786015)  17:51    1  2018.0  \n",
       "4  POINT (-87.608250547471 41.773793668947)  19:29    1  2018.0  \n",
       "\n",
       "[5 rows x 23 columns]"
      ]
     },
     "execution_count": 3,
     "metadata": {},
     "output_type": "execute_result"
    }
   ],
   "source": [
    "shot_data_raw = pd.read_csv('Shotspotter_data.csv')\n",
    "shot_data_raw=shot_data_raw[shot_data_raw[\"DISTRICT\"]==district]\n",
    "for i in shot_data_raw.index:\n",
    "    x=shot_data_raw.loc[i,\"DATE\"]\n",
    "    x1=x.split(' ')\n",
    "    x2=x1[0].split('/')\n",
    "    shot_data_raw.loc[i,\"time\"]=x1[1]\n",
    "    shot_data_raw.loc[i,'MONTH'] =int(x2[0])\n",
    "    shot_data_raw.loc[i,\"day\"]=x2[1]\n",
    "    shot_data_raw.loc[i,\"YEAR\"]=int(x2[2])\n",
    "shot_data_raw=shot_data_raw.reset_index(drop=True)\n",
    "shot_data_raw.head(5)"
   ]
  },
  {
   "cell_type": "markdown",
   "metadata": {},
   "source": [
    "3) Streamline the dataframe."
   ]
  },
  {
   "cell_type": "code",
   "execution_count": 4,
   "metadata": {},
   "outputs": [
    {
     "data": {
      "text/html": [
       "<div>\n",
       "<style scoped>\n",
       "    .dataframe tbody tr th:only-of-type {\n",
       "        vertical-align: middle;\n",
       "    }\n",
       "\n",
       "    .dataframe tbody tr th {\n",
       "        vertical-align: top;\n",
       "    }\n",
       "\n",
       "    .dataframe thead th {\n",
       "        text-align: right;\n",
       "    }\n",
       "</style>\n",
       "<table border=\"1\" class=\"dataframe\">\n",
       "  <thead>\n",
       "    <tr style=\"text-align: right;\">\n",
       "      <th></th>\n",
       "      <th>DATE</th>\n",
       "      <th>YEAR</th>\n",
       "      <th>MONTH</th>\n",
       "      <th>LATITUDE</th>\n",
       "      <th>LONGITUDE</th>\n",
       "      <th>LOCATION</th>\n",
       "    </tr>\n",
       "  </thead>\n",
       "  <tbody>\n",
       "    <tr>\n",
       "      <th>0</th>\n",
       "      <td>1/29/2018 15:27</td>\n",
       "      <td>2018.0</td>\n",
       "      <td>1</td>\n",
       "      <td>41.772790</td>\n",
       "      <td>-87.618193</td>\n",
       "      <td>POINT (-87.61819334612 41.772790345858)</td>\n",
       "    </tr>\n",
       "    <tr>\n",
       "      <th>1</th>\n",
       "      <td>1/30/2018 18:43</td>\n",
       "      <td>2018.0</td>\n",
       "      <td>1</td>\n",
       "      <td>41.766797</td>\n",
       "      <td>-87.585398</td>\n",
       "      <td>POINT (-87.58539765388 41.766797345858)</td>\n",
       "    </tr>\n",
       "    <tr>\n",
       "      <th>2</th>\n",
       "      <td>1/31/2018 1:45</td>\n",
       "      <td>2018.0</td>\n",
       "      <td>1</td>\n",
       "      <td>41.773760</td>\n",
       "      <td>-87.581308</td>\n",
       "      <td>POINT (-87.581307547471 41.773759668947)</td>\n",
       "    </tr>\n",
       "    <tr>\n",
       "      <th>3</th>\n",
       "      <td>2/1/2018 17:51</td>\n",
       "      <td>2018.0</td>\n",
       "      <td>2</td>\n",
       "      <td>41.778602</td>\n",
       "      <td>-87.609718</td>\n",
       "      <td>POINT (-87.609718 41.7786015)</td>\n",
       "    </tr>\n",
       "    <tr>\n",
       "      <th>4</th>\n",
       "      <td>2/1/2018 19:29</td>\n",
       "      <td>2018.0</td>\n",
       "      <td>2</td>\n",
       "      <td>41.773794</td>\n",
       "      <td>-87.608251</td>\n",
       "      <td>POINT (-87.608250547471 41.773793668947)</td>\n",
       "    </tr>\n",
       "  </tbody>\n",
       "</table>\n",
       "</div>"
      ],
      "text/plain": [
       "              DATE    YEAR  MONTH   LATITUDE  LONGITUDE  \\\n",
       "0  1/29/2018 15:27  2018.0      1  41.772790 -87.618193   \n",
       "1  1/30/2018 18:43  2018.0      1  41.766797 -87.585398   \n",
       "2   1/31/2018 1:45  2018.0      1  41.773760 -87.581308   \n",
       "3   2/1/2018 17:51  2018.0      2  41.778602 -87.609718   \n",
       "4   2/1/2018 19:29  2018.0      2  41.773794 -87.608251   \n",
       "\n",
       "                                   LOCATION  \n",
       "0   POINT (-87.61819334612 41.772790345858)  \n",
       "1   POINT (-87.58539765388 41.766797345858)  \n",
       "2  POINT (-87.581307547471 41.773759668947)  \n",
       "3             POINT (-87.609718 41.7786015)  \n",
       "4  POINT (-87.608250547471 41.773793668947)  "
      ]
     },
     "execution_count": 4,
     "metadata": {},
     "output_type": "execute_result"
    }
   ],
   "source": [
    "shot_data_raw=shot_data_raw[[\"DATE\",\"YEAR\",\"MONTH\",\"LATITUDE\",\"LONGITUDE\",\"LOCATION\"]]\n",
    "shot_data_raw.head(5)"
   ]
  },
  {
   "cell_type": "markdown",
   "metadata": {},
   "source": [
    "5) Read in the shooting event data."
   ]
  },
  {
   "cell_type": "code",
   "execution_count": 7,
   "metadata": {},
   "outputs": [
    {
     "data": {
      "text/plain": [
       "Index(['ID', 'Case Number', 'Date', 'Block', 'IUCR', 'Primary Type',\n",
       "       'Description', 'Location Description', 'Arrest', 'Domestic', 'Beat',\n",
       "       'District', 'Ward', 'Community Area', 'FBI Code', 'X Coordinate',\n",
       "       'Y Coordinate', 'Year', 'Updated On', 'Latitude', 'Longitude',\n",
       "       'Location', 'MONTH'],\n",
       "      dtype='object')"
      ]
     },
     "execution_count": 7,
     "metadata": {},
     "output_type": "execute_result"
    }
   ],
   "source": [
    "hom_data_raw = pd.read_csv('Shooting_data.csv')\n",
    "for i in hom_data_raw.index:\n",
    "    x=hom_data_raw.loc[i,\"Date\"]\n",
    "    x1=x.split(' ')\n",
    "    x2=x1[0].split('/')\n",
    "    hom_data_raw.loc[i,'MONTH'] =int(x2[0])\n",
    "hom_data_raw.columns"
   ]
  },
  {
   "cell_type": "markdown",
   "metadata": {},
   "source": [
    "6) Filter the shooting data for D3 and create a column \"spotted\" to indicate which events are linked to shotspotter incidents (note that there might be several linked shooting and shotspotter incidents based on the threshold values)."
   ]
  },
  {
   "cell_type": "code",
   "execution_count": 8,
   "metadata": {},
   "outputs": [
    {
     "data": {
      "text/html": [
       "<div>\n",
       "<style scoped>\n",
       "    .dataframe tbody tr th:only-of-type {\n",
       "        vertical-align: middle;\n",
       "    }\n",
       "\n",
       "    .dataframe tbody tr th {\n",
       "        vertical-align: top;\n",
       "    }\n",
       "\n",
       "    .dataframe thead th {\n",
       "        text-align: right;\n",
       "    }\n",
       "</style>\n",
       "<table border=\"1\" class=\"dataframe\">\n",
       "  <thead>\n",
       "    <tr style=\"text-align: right;\">\n",
       "      <th></th>\n",
       "      <th>DATE</th>\n",
       "      <th>YEAR</th>\n",
       "      <th>MONTH</th>\n",
       "      <th>DISTRICT</th>\n",
       "      <th>LATITUDE</th>\n",
       "      <th>LONGITUDE</th>\n",
       "      <th>LOCATION</th>\n",
       "      <th>spotted</th>\n",
       "    </tr>\n",
       "  </thead>\n",
       "  <tbody>\n",
       "    <tr>\n",
       "      <th>0</th>\n",
       "      <td>1/2/2018 14:55</td>\n",
       "      <td>2018</td>\n",
       "      <td>1.0</td>\n",
       "      <td>3</td>\n",
       "      <td>41.777465</td>\n",
       "      <td>-87.617264</td>\n",
       "      <td>(41.777464689, -87.617264087)</td>\n",
       "      <td>0</td>\n",
       "    </tr>\n",
       "    <tr>\n",
       "      <th>1</th>\n",
       "      <td>1/6/2018 11:12</td>\n",
       "      <td>2018</td>\n",
       "      <td>1.0</td>\n",
       "      <td>3</td>\n",
       "      <td>41.769885</td>\n",
       "      <td>-87.568652</td>\n",
       "      <td>(41.769884528, -87.568652033)</td>\n",
       "      <td>0</td>\n",
       "    </tr>\n",
       "  </tbody>\n",
       "</table>\n",
       "</div>"
      ],
      "text/plain": [
       "             DATE  YEAR  MONTH  DISTRICT   LATITUDE  LONGITUDE  \\\n",
       "0  1/2/2018 14:55  2018    1.0         3  41.777465 -87.617264   \n",
       "1  1/6/2018 11:12  2018    1.0         3  41.769885 -87.568652   \n",
       "\n",
       "                        LOCATION  spotted  \n",
       "0  (41.777464689, -87.617264087)        0  \n",
       "1  (41.769884528, -87.568652033)        0  "
      ]
     },
     "execution_count": 8,
     "metadata": {},
     "output_type": "execute_result"
    }
   ],
   "source": [
    "hom_data_raw= hom_data_raw[['Date','Year','MONTH','District','Latitude', 'Longitude','Location']]\n",
    "hom_data_raw= hom_data_raw[hom_data_raw['District'] == int(district)]\n",
    "hom_data_raw= hom_data_raw.reset_index(drop=True)\n",
    "hom_data_raw['spotted'] = 0\n",
    "hom_data_raw.columns=[\"DATE\",\"YEAR\",\"MONTH\",\"DISTRICT\",\"LATITUDE\",\"LONGITUDE\",\"LOCATION\",\"spotted\"]\n",
    "hom_data_raw.head(2)"
   ]
  },
  {
   "cell_type": "markdown",
   "metadata": {},
   "source": [
    "7) Import libraries used to link positions and times of shotspotter and shooting incidents."
   ]
  },
  {
   "cell_type": "code",
   "execution_count": 10,
   "metadata": {},
   "outputs": [],
   "source": [
    "!!pip install geopy\n",
    "from geopy import distance\n",
    "import datetime\n",
    "import re"
   ]
  },
  {
   "cell_type": "markdown",
   "metadata": {},
   "source": [
    "8) Create variables 'strdate1' and 'strdate2' with date and time information for the 3rd shooting and 1st shot spotter incidents."
   ]
  },
  {
   "cell_type": "code",
   "execution_count": 11,
   "metadata": {},
   "outputs": [
    {
     "name": "stdout",
     "output_type": "stream",
     "text": [
      "Distance between events is  3.2000326883527346  km\n",
      "2018-02-02 00:04:00\n",
      "2018-01-30 18:43:00\n",
      "Time between events is  3201\n"
     ]
    }
   ],
   "source": [
    "pt1 = [hom_data_raw.loc[3,\"LATITUDE\"],hom_data_raw.loc[3,\"LONGITUDE\"]]\n",
    "pt2 = [shot_data_raw.loc[1,\"LATITUDE\"],shot_data_raw.loc[1,\"LONGITUDE\"]]\n",
    "print(\"Distance between events is \", distance.distance(pt1, pt2).km, ' km')\n",
    "strdate1 = hom_data_raw.loc[3,\"DATE\"]\n",
    "strdate2 = shot_data_raw.loc[1,\"DATE\"]\n",
    "date1 = datetime.datetime.strptime(strdate1, \"%m/%d/%Y %H:%M\")\n",
    "date2 = datetime.datetime.strptime(strdate2, \"%m/%d/%Y %H:%M\")\n",
    "dt = date1-date2\n",
    "print(date1)\n",
    "print(date2)\n",
    "print(\"Time between events is \", int(dt.total_seconds()/60))"
   ]
  },
  {
   "cell_type": "markdown",
   "metadata": {},
   "source": [
    "<h3>Problem</h3>\n",
    "Plot level curves which show the linkage ratio $\\lambda(\\delta,\\tau)$ for $0\\le \\delta=.3$ km and $0\\le \\tau \\le$ 30 minutes.\n"
   ]
  },
  {
   "cell_type": "markdown",
   "metadata": {},
   "source": [
    "a) Function to process data and get linking distribution for a specified year and month"
   ]
  },
  {
   "cell_type": "code",
   "execution_count": 12,
   "metadata": {},
   "outputs": [],
   "source": [
    "def LD(hom_data,shot_data,year,month,delta,tau):\n",
    "    #install libraries\n",
    "    from geopy import distance\n",
    "    import datetime\n",
    "    #get the threshold values\n",
    "    delta = delta\n",
    "    tau = tau\n",
    "    hom_data = hom_data[hom_data[\"YEAR\"]==year]\n",
    "    shot_data = shot_data[shot_data[\"YEAR\"]==year]\n",
    "    hom_data = hom_data[hom_data[\"MONTH\"]==month]\n",
    "    shot_data = shot_data[shot_data[\"MONTH\"]==month]\n",
    "    shot_data = shot_data.reset_index(drop = True)\n",
    "    hom_data = hom_data.reset_index(drop=True)\n",
    "    #define the function to determine linkage of shotspotter and shooting incidents based on the threshold values\n",
    "    def linked(P, T, delta, tau):\n",
    "        for k in range(P.shape[0]):\n",
    "            for q in range(P.shape[1]):\n",
    "                if P[k][q] < delta and T[k][q] < tau and T[k][q] >= 0:\n",
    "                    hom_data.loc[k, 'spotted'] = hom_data.loc[k,'spotted']+ 1\n",
    "    #Create the P and T matrices\n",
    "    P = np.zeros((hom_data.shape[0], shot_data.shape[0]))\n",
    "    T = np.zeros((hom_data.shape[0], shot_data.shape[0]))\n",
    "    for i in hom_data.index:\n",
    "        for j in shot_data.index:\n",
    "            location1 = hom_data.loc[i,\"LOCATION\"]\n",
    "            location2 = shot_data.loc[j,\"LOCATION\"]\n",
    "            a1 = location1.split(' ')\n",
    "            a2 = location2.split(' ')\n",
    "            #pt1 = [float(re.sub('[^0-9.-]','', a1[2])),float(re.sub('[^0-9.-]','', a1[1]))]\n",
    "            #pt2 = [float(re.sub('[^0-9.-]','', a2[2])),float(re.sub('[^0-9.-]','', a2[1]))]\n",
    "            pt1 = [hom_data.loc[i,\"LATITUDE\"],hom_data.loc[i,\"LONGITUDE\"]]\n",
    "            pt2 = [shot_data.loc[j,\"LATITUDE\"],shot_data.loc[j,\"LONGITUDE\"]]\n",
    "            P[i][j] = distance.distance(pt1, pt2).km\n",
    "            strdate1 = hom_data.loc[i,\"DATE\"]\n",
    "            strdate2 = shot_data.loc[j,\"DATE\"]\n",
    "            date1 = datetime.datetime.strptime(strdate1, \"%m/%d/%Y %H:%M\")\n",
    "            date2 = datetime.datetime.strptime(strdate2, \"%m/%d/%Y %H:%M\")\n",
    "            dt = date1-date2\n",
    "            T[i][j] = int(dt.total_seconds() / 60)\n",
    "    #Apply the function linked to the P and T matrices\n",
    "    linked(P,T,delta,tau)\n",
    "    #return the linking distribution\n",
    "    return hom_data['spotted'].value_counts()"
   ]
  },
  {
   "cell_type": "markdown",
   "metadata": {},
   "source": [
    "b) Function to get for a specified year the monthly linkage ratio, total number of shooting incidents, and number of linked shooting incidents"
   ]
  },
  {
   "cell_type": "code",
   "execution_count": 13,
   "metadata": {},
   "outputs": [],
   "source": [
    "def linkageratio(year,delta,tau,hom_data_raw,shot_data_raw):\n",
    "    tot= [[]] * 12\n",
    "    linked = [[]] * 12\n",
    "    ratio = [[]]*12\n",
    "    L = [[]]*12\n",
    "    for mo in np.arange(0,12,1):\n",
    "        L[mo]=LD(hom_data_raw,shot_data_raw,year,mo+1,delta,tau)\n",
    "        tot[mo] = np.sum(L[mo])\n",
    "        if 0 in L[mo].index:\n",
    "            linked[mo] = tot[mo]-L[mo][0]\n",
    "        else:\n",
    "            linked[mo] = tot[mo]\n",
    "        ratio[mo] = linked[mo]/tot[mo]\n",
    "    return [ratio,linked,tot]"
   ]
  },
  {
   "cell_type": "code",
   "execution_count": 14,
   "metadata": {},
   "outputs": [],
   "source": [
    "#use to store specified year linkage ratios. linked shooting incidents, and total shooting incidents\n",
    "yrtot= [[]] * 4\n",
    "yrlinked=[[]]*4\n",
    "yrratio=[[]]*4"
   ]
  },
  {
   "cell_type": "markdown",
   "metadata": {},
   "source": [
    "c) Define a function $LR(\\delta,\\tau)$ which determines the linkage ratio for a specified year as a funcion of the threshold values $\\delta$ and $\\tau$."
   ]
  },
  {
   "cell_type": "code",
   "execution_count": 18,
   "metadata": {},
   "outputs": [],
   "source": [
    "def LR(year,delta,tau,hom_data_raw,shot_data_raw):\n",
    "    [yrratio[0],yrlinked[0],yrtot[0]]=linkageratio(2018,delta,tau,hom_data_raw,shot_data_raw) #year 0 =2018\n",
    "    return yrratio[0]"
   ]
  },
  {
   "cell_type": "markdown",
   "metadata": {},
   "source": [
    "d) Make level curves for $LR(\\delta,\\tau)$"
   ]
  },
  {
   "cell_type": "code",
   "execution_count": 19,
   "metadata": {},
   "outputs": [],
   "source": [
    "import numpy as np\n",
    "import matplotlib.pyplot as plt\n",
    "import pylab"
   ]
  },
  {
   "cell_type": "code",
   "execution_count": 42,
   "metadata": {},
   "outputs": [
    {
     "data": {
      "image/png": "[encoded data removed]",
      "text/plain": [
       "<matplotlib.figure.Figure at 0x1c3e2029ba8>"
      ]
     },
     "metadata": {
      "needs_background": "light"
     },
     "output_type": "display_data"
    }
   ],
   "source": [
    "import numpy as np\n",
    "from matplotlib import rcParams\n",
    "# Initialize plot objects\n",
    "rcParams['figure.figsize'] = 5, 5 # sets plot size\n",
    "fig = plt.figure()\n",
    "ax = fig.add_subplot(111)\n",
    "\n",
    "# Define levels in z-axis where we want lines to appear\n",
    "levels = np.array([0,.025,.05,.1,.2,.3,.35,.4,.45,.5])\n",
    "\n",
    "N=10\n",
    "M=10\n",
    "\n",
    "# List of points in x axis\n",
    "DeltaPoints     = []\n",
    "\n",
    "# List of points in y axis\n",
    "TauPoints     = []\n",
    "\n",
    "# Delta points are from 0 to .3 divided evenly into N testpoints\n",
    "for val in np.linspace(0, .3, N):\n",
    "    DeltaPoints.append(val)\n",
    "    \n",
    "# Tau points are from 0 to 30 divided evenly into M testpoints\n",
    "for val in np.linspace(0, 31, M):\n",
    "    TauPoints.append(val)\n",
    "    \n",
    "X, Y = np.meshgrid(DeltaPoints,TauPoints)\n",
    "    \n",
    "# Populate L(delta,tau) for year=2020\n",
    "year=2020\n",
    "\n",
    "L     = np.ndarray((N,M))\n",
    "\n",
    "for d in np.arange(0,N,1):\n",
    "    for t in np.arange(0,M,1):\n",
    "           L[d][t] = np.sum(LR(year,DeltaPoints[d],TauPoints[t],hom_data_raw,shot_data_raw))/12\n",
    "\n",
    "# Generate a color mapping of the levels we've specified\n",
    "import matplotlib.cm as cm # matplotlib's color map library\n",
    "cpf = ax.contourf(X,Y,L, len(levels), cmap=cm.Reds)\n",
    "\n",
    "# Set all level lines to black\n",
    "line_colors = ['black' for l in cpf.levels]\n",
    "\n",
    "# Make plot and customize axes\n",
    "cp = ax.contour(X, Y, L, levels=levels, colors=line_colors)\n",
    "ax.clabel(cp, fontsize=10, colors=line_colors)\n",
    "plt.xticks(np.arange(0,.35,.05))\n",
    "plt.yticks(np.arange(0,35,5))\n",
    "ax.set_xlabel('Delta')\n",
    "_ = ax.set_ylabel('Tau')\n",
    "plt.savefig('sensitivity.png') # uncomment to save vector/high-res version\n",
    "plt.show()"
   ]
  }
 ],
 "metadata": {
  "kernelspec": {
   "display_name": "Python 3",
   "language": "python",
   "name": "python3"
  },
  "language_info": {
   "codemirror_mode": {
    "name": "ipython",
    "version": 3
   },
   "file_extension": ".py",
   "mimetype": "text/x-python",
   "name": "python",
   "nbconvert_exporter": "python",
   "pygments_lexer": "ipython3",
   "version": "3.6.4"
  }
 },
 "nbformat": 4,
 "nbformat_minor": 4
}
