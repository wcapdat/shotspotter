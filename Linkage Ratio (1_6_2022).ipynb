{
 "cells": [
  {
   "cell_type": "markdown",
   "metadata": {},
   "source": [
    "<h4> Briefing</h4>\n",
    "The City of Chicago's renewal in 2021 of their multi-million dollar ShotSpotter contract is controversial.  Later in the same year, the Office of the Inspector General, an independent watchdog funded by taxpayers, released a report which raises questions about the cost-effectiveness of this advanced gunshot detection technology and a possible discriminatory influence on Chicago police officers. In October 2021, leaders of the Flourshing Community Initiative of a faith-based non-profit called Sunshine Gospel Ministries in the Woodlawn Community area on the South Side of Chicago, requested a data detective team to investigate  shot spotter data for Chicago Police District 3 (D3).\n",
    "\n",
    "<h4> In this JNB we will:</h4>\n",
    "<ul>\n",
    "    <li> Encode the PTL model of ShotSpotter effectiveness that can be applied to any Chicago police district.  In particular, for each month of shotspotter operation and for each shooting incident in a specified police district since 1/1/2018, we find the number of shot spotter incidents which occured within a distance  $\\delta$ km from the shoting incident and up to $\\tau$ minutes before the shooting incident.</li>\n",
    "     <li> Defining the $linkage \\, ratio$  $\\lambda(\\delta,\\tau)$ as the proportion of shooting incidents which are linked to at least one shotspotter incident, we create a barchart showing the $\\lambda(\\delta,\\tau)$ for the D3.</li>\n",
    "       <li>  We also compare a barchart of the linkage ratio for D10 $\\lambda(\\delta,\\tau)$ and compare it with D3. (Chicago Police District 10 includes the La Vilita neighborhood, where a young boy was tragically killed by police responding to a ShotSpotter alert.</li>\n",
    "        \n",
    "        </ul>\n",
    "        \n",
    "In the analysis, we use threshold parameters $\\delta=.3$ km and $\\tau=30$ minutes."
   ]
  },
  {
   "cell_type": "markdown",
   "metadata": {},
   "source": [
    "<h3> Model Overview</h3>\n",
    "The Chicago Data Portal contains detailed information about both shotspotter and shooting incidents. However, these data sets are separated, so it is not a simple data analysis to determine which shotspotter events correspond to which shooting incidents. \n",
    "\n",
    "To match Chicago data portal shotspotter and shooting incidents, we need to match both spatial and temporal data. The method we propose is called Proximity-Temporal-Linking  PTL, outlined as follows:\n",
    "\n",
    "\n",
    "<h4>STEP ONE:Construct the P Matrix </h4> First, construct the $n_1$x$n_2$ $proximity \\,matrix$ <b>P</b> where the first data set has $n_1$ shooting incident locations and the second data set has $n_2$ shot spotter incident locations. The $p_{ij}$ entry of <b>P</b> gives the distance from the $i^{th}$ shooting incident ($1\\le i \\le n_1)$ to the $j^{th}$ shot spotter incident ($1\\le j\\le n_2)$.\n",
    "\n",
    "<h4> STEP TWO: Construct the T Matrix</h4>\n",
    "Next, we construct the $n_1$x$n_2$ $temporal\\, matrix$ <b>T</b> whose $t_{ij}$ entry gives the difference between the  time of the $i^{th}$ shooting incident ($1\\le i\\le n_1$)  and the time of the  $j^{th}$ shot spotter incident ($1\\le j \\le n_2$). The sign of  $t_{ij}$ is important since we assume that the shotspotter incident must occur before a linked shooting incident ($t_{ij}\\ge 0$ ). In other words, if $t_{ij}<0$, then shooting incident $i$ is not linked to shotspotter incident $j$.\n",
    "\n",
    "<h4> STEP THREE: Compute the linkage marix L</h4>  The linkage matrix <b>L</b> is a binary matrix whose $l_{ij}$ entry equals 1 if the   $i^{th}$ shooting incident ($1\\le i\\le n_1$) is predicted by the model to correspond to the  $j^{th}$ shotspotter incident ($1\\le j \\le n_2$).  Note that\n",
    "\\begin{equation}\n",
    "    L=f(P,T)\n",
    "\\end{equation}\n",
    "where different choices are possible for the function $f$.  \n",
    "\n",
    "The simplest choice of $f(P,T)$ is a deterministic $threshold \\, model$ which sets a maximum distance $\\delta$ and time separation $\\tau$ for a shotspotter and shooting incident to be linked.\n",
    "\n",
    "\\begin{equation}\n",
    "    l_{ij} = 1 \\,if\\,and\\,only\\,if\\, [p_{ij}<\\delta \\, and \\, 0\\le t_{ij}<\\tau]\n",
    "\\end{equation}\n",
    "\n",
    "The $linking\\, distribution$ $\\mathcal{L}(\\delta,\\tau)$ gives the distribution in the number of shotspotter incidents which are linked to a specific shooting incident.\n",
    "\n",
    "The $linkage \\, ratio \\lambda(\\delta,\\tau)$ gives the proportion of shooting events which are linked to a shooting event. "
   ]
  },
  {
   "cell_type": "markdown",
   "metadata": {},
   "source": [
    "<h3> DATA ANALYSIS</h3>\n",
    "Date: Dec 20, 2021 (20 rows had missing data)"
   ]
  },
  {
   "cell_type": "markdown",
   "metadata": {},
   "source": [
    "1) Specify the Police District and the threshold paramters"
   ]
  },
  {
   "cell_type": "code",
   "execution_count": 1,
   "metadata": {},
   "outputs": [],
   "source": [
    "district=3.0\n",
    "delta=.3\n",
    "tau=30"
   ]
  },
  {
   "cell_type": "markdown",
   "metadata": {},
   "source": [
    "2) Import Libraries"
   ]
  },
  {
   "cell_type": "code",
   "execution_count": 2,
   "metadata": {},
   "outputs": [],
   "source": [
    "import numpy as np\n",
    "import pandas as pd\n",
    "from matplotlib import pyplot as plt"
   ]
  },
  {
   "cell_type": "markdown",
   "metadata": {},
   "source": [
    "3) Import the Chicago shotspotter data and filter for the specified district."
   ]
  },
  {
   "cell_type": "code",
   "execution_count": 3,
   "metadata": {},
   "outputs": [
    {
     "data": {
      "text/plain": [
       "Index(['DATE', 'BLOCK', 'ZIP_CODE', 'WARD', 'COMMUNITY_AREA', 'AREA',\n",
       "       'DISTRICT', 'BEAT', 'STREET_OUTREACH_ORGANIZATION', 'UNIQUE_ID',\n",
       "       'MONTH', 'DAY_OF_WEEK', 'HOUR', 'INCIDENT_TYPE_DESCRIPTION', 'ROUNDS',\n",
       "       'ILLINOIS_HOUSE_DISTRICT', 'ILLINOIS_SENATE_DISTRICT', 'LATITUDE',\n",
       "       'LONGITUDE', 'LOCATION'],\n",
       "      dtype='object')"
      ]
     },
     "execution_count": 3,
     "metadata": {},
     "output_type": "execute_result"
    }
   ],
   "source": [
    "ss_raw = pd.read_csv(\"Shotspotter_2022.csv\")\n",
    "ss_raw.columns"
   ]
  },
  {
   "cell_type": "code",
   "execution_count": 4,
   "metadata": {},
   "outputs": [
    {
     "data": {
      "text/html": [
       "<div>\n",
       "<style scoped>\n",
       "    .dataframe tbody tr th:only-of-type {\n",
       "        vertical-align: middle;\n",
       "    }\n",
       "\n",
       "    .dataframe tbody tr th {\n",
       "        vertical-align: top;\n",
       "    }\n",
       "\n",
       "    .dataframe thead th {\n",
       "        text-align: right;\n",
       "    }\n",
       "</style>\n",
       "<table border=\"1\" class=\"dataframe\">\n",
       "  <thead>\n",
       "    <tr style=\"text-align: right;\">\n",
       "      <th></th>\n",
       "      <th>DATE</th>\n",
       "      <th>BLOCK</th>\n",
       "      <th>ZIP_CODE</th>\n",
       "      <th>WARD</th>\n",
       "      <th>COMMUNITY_AREA</th>\n",
       "      <th>AREA</th>\n",
       "      <th>DISTRICT</th>\n",
       "      <th>BEAT</th>\n",
       "      <th>STREET_OUTREACH_ORGANIZATION</th>\n",
       "      <th>UNIQUE_ID</th>\n",
       "      <th>MONTH</th>\n",
       "      <th>DAY_OF_WEEK</th>\n",
       "      <th>HOUR</th>\n",
       "      <th>INCIDENT_TYPE_DESCRIPTION</th>\n",
       "      <th>ROUNDS</th>\n",
       "      <th>ILLINOIS_HOUSE_DISTRICT</th>\n",
       "      <th>ILLINOIS_SENATE_DISTRICT</th>\n",
       "      <th>LATITUDE</th>\n",
       "      <th>LONGITUDE</th>\n",
       "      <th>LOCATION</th>\n",
       "    </tr>\n",
       "  </thead>\n",
       "  <tbody>\n",
       "    <tr>\n",
       "      <th>0</th>\n",
       "      <td>12/14/2018 06:10:27 PM</td>\n",
       "      <td>8400  S KEDZIE AVE</td>\n",
       "      <td>60652.0</td>\n",
       "      <td>18.0</td>\n",
       "      <td>ASHBURN</td>\n",
       "      <td>1.0</td>\n",
       "      <td>8.0</td>\n",
       "      <td>835.0</td>\n",
       "      <td>None</td>\n",
       "      <td>SST-50855</td>\n",
       "      <td>12</td>\n",
       "      <td>6</td>\n",
       "      <td>18</td>\n",
       "      <td>MULTIPLE GUNSHOTS</td>\n",
       "      <td>6</td>\n",
       "      <td>31.0</td>\n",
       "      <td>16.0</td>\n",
       "      <td>41.738601</td>\n",
       "      <td>-87.701916</td>\n",
       "      <td>POINT (-87.701916 41.7386005)</td>\n",
       "    </tr>\n",
       "  </tbody>\n",
       "</table>\n",
       "</div>"
      ],
      "text/plain": [
       "                     DATE               BLOCK  ZIP_CODE  WARD COMMUNITY_AREA  \\\n",
       "0  12/14/2018 06:10:27 PM  8400  S KEDZIE AVE   60652.0  18.0        ASHBURN   \n",
       "\n",
       "   AREA  DISTRICT   BEAT STREET_OUTREACH_ORGANIZATION  UNIQUE_ID  MONTH  \\\n",
       "0   1.0       8.0  835.0                         None  SST-50855     12   \n",
       "\n",
       "   DAY_OF_WEEK  HOUR INCIDENT_TYPE_DESCRIPTION  ROUNDS  \\\n",
       "0            6    18         MULTIPLE GUNSHOTS       6   \n",
       "\n",
       "   ILLINOIS_HOUSE_DISTRICT  ILLINOIS_SENATE_DISTRICT   LATITUDE  LONGITUDE  \\\n",
       "0                     31.0                      16.0  41.738601 -87.701916   \n",
       "\n",
       "                        LOCATION  \n",
       "0  POINT (-87.701916 41.7386005)  "
      ]
     },
     "execution_count": 4,
     "metadata": {},
     "output_type": "execute_result"
    }
   ],
   "source": [
    "ss_raw.head(1)"
   ]
  },
  {
   "cell_type": "code",
   "execution_count": 5,
   "metadata": {},
   "outputs": [
    {
     "data": {
      "text/html": [
       "<div>\n",
       "<style scoped>\n",
       "    .dataframe tbody tr th:only-of-type {\n",
       "        vertical-align: middle;\n",
       "    }\n",
       "\n",
       "    .dataframe tbody tr th {\n",
       "        vertical-align: top;\n",
       "    }\n",
       "\n",
       "    .dataframe thead th {\n",
       "        text-align: right;\n",
       "    }\n",
       "</style>\n",
       "<table border=\"1\" class=\"dataframe\">\n",
       "  <thead>\n",
       "    <tr style=\"text-align: right;\">\n",
       "      <th></th>\n",
       "      <th>BEAT</th>\n",
       "      <th>DATE</th>\n",
       "      <th>DISTRICT</th>\n",
       "      <th>LATITUDE</th>\n",
       "      <th>LONGITUDE</th>\n",
       "      <th>time</th>\n",
       "      <th>MONTH</th>\n",
       "      <th>day</th>\n",
       "      <th>YEAR</th>\n",
       "    </tr>\n",
       "  </thead>\n",
       "  <tbody>\n",
       "    <tr>\n",
       "      <th>0</th>\n",
       "      <td>323.0</td>\n",
       "      <td>11/29/2019 11:57:40 PM</td>\n",
       "      <td>3.0</td>\n",
       "      <td>41.764712</td>\n",
       "      <td>-87.611835</td>\n",
       "      <td>11:57:40</td>\n",
       "      <td>11.0</td>\n",
       "      <td>29</td>\n",
       "      <td>2019.0</td>\n",
       "    </tr>\n",
       "  </tbody>\n",
       "</table>\n",
       "</div>"
      ],
      "text/plain": [
       "    BEAT                    DATE  DISTRICT   LATITUDE  LONGITUDE      time  \\\n",
       "0  323.0  11/29/2019 11:57:40 PM       3.0  41.764712 -87.611835  11:57:40   \n",
       "\n",
       "   MONTH day    YEAR  \n",
       "0   11.0  29  2019.0  "
      ]
     },
     "execution_count": 5,
     "metadata": {},
     "output_type": "execute_result"
    }
   ],
   "source": [
    "shotspotter_raw=ss_raw[[\"BEAT\",\"DATE\",\"DISTRICT\",\"LATITUDE\",\"LONGITUDE\"]]\n",
    "shotspotter_raw=shotspotter_raw[shotspotter_raw[\"DISTRICT\"]==district]\n",
    "shotspotter_raw=shotspotter_raw.dropna()  \n",
    "for i in shotspotter_raw.index:\n",
    "    x=shotspotter_raw.loc[i,\"DATE\"]\n",
    "    x1=x.split(' ')\n",
    "    x2=x1[0].split('/')\n",
    "    shotspotter_raw.loc[i,\"time\"]=x1[1]\n",
    "    shotspotter_raw.loc[i,'MONTH'] =int(x2[0])\n",
    "    shotspotter_raw.loc[i,\"day\"]=x2[1]\n",
    "    shotspotter_raw.loc[i,\"YEAR\"]=int(x2[2])\n",
    "shotspotter_raw=shotspotter_raw.reset_index(drop=True)\n",
    "shotspotter_raw.head(1)"
   ]
  },
  {
   "cell_type": "markdown",
   "metadata": {},
   "source": [
    "4) Read in the shooting event data."
   ]
  },
  {
   "cell_type": "code",
   "execution_count": 6,
   "metadata": {},
   "outputs": [
    {
     "data": {
      "text/plain": [
       "Index(['CASE_NUMBER', 'DATE', 'BLOCK', 'VICTIMIZATION_PRIMARY',\n",
       "       'INCIDENT_PRIMARY', 'GUNSHOT_INJURY_I', 'UNIQUE_ID', 'ZIP_CODE', 'WARD',\n",
       "       'COMMUNITY_AREA', 'STREET_OUTREACH_ORGANIZATION', 'AREA', 'DISTRICT',\n",
       "       'BEAT', 'AGE', 'SEX', 'RACE', 'VICTIMIZATION_FBI_CD', 'INCIDENT_FBI_CD',\n",
       "       'VICTIMIZATION_FBI_DESCR', 'INCIDENT_FBI_DESCR',\n",
       "       'VICTIMIZATION_IUCR_CD', 'INCIDENT_IUCR_CD',\n",
       "       'VICTIMIZATION_IUCR_SECONDARY', 'INCIDENT_IUCR_SECONDARY',\n",
       "       'HOMICIDE_VICTIM_FIRST_NAME', 'HOMICIDE_VICTIM_MI',\n",
       "       'HOMICIDE_VICTIM_LAST_NAME', 'MONTH', 'DAY_OF_WEEK', 'HOUR',\n",
       "       'LOCATION_DESCRIPTION', 'STATE_HOUSE_DISTRICT', 'STATE_SENATE_DISTRICT',\n",
       "       'UPDATED', 'LATITUDE', 'LONGITUDE', 'LOCATION'],\n",
       "      dtype='object')"
      ]
     },
     "execution_count": 6,
     "metadata": {},
     "output_type": "execute_result"
    }
   ],
   "source": [
    "s_raw = pd.read_csv('Homicide_data_to_2022.csv')\n",
    "s_raw = s_raw[s_raw[\"GUNSHOT_INJURY_I\"]=='YES']\n",
    "s_raw.columns\n"
   ]
  },
  {
   "cell_type": "code",
   "execution_count": 7,
   "metadata": {},
   "outputs": [
    {
     "data": {
      "text/plain": [
       "Index(['DATE', 'DISTRICT', 'BEAT', 'LATITUDE', 'LONGITUDE', 'LOCATION', 'YEAR',\n",
       "       'MONTH'],\n",
       "      dtype='object')"
      ]
     },
     "execution_count": 7,
     "metadata": {},
     "output_type": "execute_result"
    }
   ],
   "source": [
    "shootings_raw = s_raw[[\"DATE\",\"DISTRICT\",\"BEAT\",\"LATITUDE\",\"LONGITUDE\",\"LOCATION\"]]\n",
    "shootings_raw=shootings_raw[shootings_raw[\"DISTRICT\"]==district]\n",
    "shootings_raw=shootings_raw.dropna()\n",
    "for i in shootings_raw.index:\n",
    "    x=shootings_raw.loc[i,\"DATE\"]\n",
    "    x1=x.split(' ')\n",
    "    x2=x1[0].split('/')\n",
    "    shootings_raw.loc[i,'YEAR'] =int(x2[2])\n",
    "    shootings_raw.loc[i,'MONTH'] =int(x2[0])\n",
    "shootings_raw.columns"
   ]
  },
  {
   "cell_type": "markdown",
   "metadata": {},
   "source": [
    "5) Filter the shooting data for D3 and create a column \"spotted\" to indicate which events are linked to shotspotter incidents (note that there might be several linked shooting and shotspotter incidents based on the threshold values)."
   ]
  },
  {
   "cell_type": "code",
   "execution_count": 8,
   "metadata": {},
   "outputs": [
    {
     "data": {
      "text/html": [
       "<div>\n",
       "<style scoped>\n",
       "    .dataframe tbody tr th:only-of-type {\n",
       "        vertical-align: middle;\n",
       "    }\n",
       "\n",
       "    .dataframe tbody tr th {\n",
       "        vertical-align: top;\n",
       "    }\n",
       "\n",
       "    .dataframe thead th {\n",
       "        text-align: right;\n",
       "    }\n",
       "</style>\n",
       "<table border=\"1\" class=\"dataframe\">\n",
       "  <thead>\n",
       "    <tr style=\"text-align: right;\">\n",
       "      <th></th>\n",
       "      <th>DATE</th>\n",
       "      <th>YEAR</th>\n",
       "      <th>MONTH</th>\n",
       "      <th>DISTRICT</th>\n",
       "      <th>BEAT</th>\n",
       "      <th>LATITUDE</th>\n",
       "      <th>LONGITUDE</th>\n",
       "      <th>LOCATION</th>\n",
       "      <th>spotted</th>\n",
       "    </tr>\n",
       "  </thead>\n",
       "  <tbody>\n",
       "    <tr>\n",
       "      <th>0</th>\n",
       "      <td>01/23/1996 04:35:00 PM</td>\n",
       "      <td>1996.0</td>\n",
       "      <td>1.0</td>\n",
       "      <td>3.0</td>\n",
       "      <td>313.0</td>\n",
       "      <td>41.784330</td>\n",
       "      <td>-87.613289</td>\n",
       "      <td>POINT (-87.613288547471 41.784329668947)</td>\n",
       "      <td>0</td>\n",
       "    </tr>\n",
       "    <tr>\n",
       "      <th>1</th>\n",
       "      <td>02/04/1996 07:00:00 AM</td>\n",
       "      <td>1996.0</td>\n",
       "      <td>2.0</td>\n",
       "      <td>3.0</td>\n",
       "      <td>323.0</td>\n",
       "      <td>41.765432</td>\n",
       "      <td>-87.614685</td>\n",
       "      <td>POINT (-87.61468534612 41.765431654142)</td>\n",
       "      <td>0</td>\n",
       "    </tr>\n",
       "  </tbody>\n",
       "</table>\n",
       "</div>"
      ],
      "text/plain": [
       "                     DATE    YEAR  MONTH  DISTRICT   BEAT   LATITUDE  \\\n",
       "0  01/23/1996 04:35:00 PM  1996.0    1.0       3.0  313.0  41.784330   \n",
       "1  02/04/1996 07:00:00 AM  1996.0    2.0       3.0  323.0  41.765432   \n",
       "\n",
       "   LONGITUDE                                  LOCATION  spotted  \n",
       "0 -87.613289  POINT (-87.613288547471 41.784329668947)        0  \n",
       "1 -87.614685   POINT (-87.61468534612 41.765431654142)        0  "
      ]
     },
     "execution_count": 8,
     "metadata": {},
     "output_type": "execute_result"
    }
   ],
   "source": [
    "shootings_raw= shootings_raw[['DATE','YEAR','MONTH','DISTRICT','BEAT','LATITUDE', 'LONGITUDE','LOCATION']]\n",
    "shootings_raw= shootings_raw.reset_index(drop=True)\n",
    "shootings_raw['spotted'] = 0\n",
    "shootings_raw.head(2)"
   ]
  },
  {
   "cell_type": "markdown",
   "metadata": {},
   "source": [
    "6) Import libraries used to link positions and times of shotspotter and shooting incidents."
   ]
  },
  {
   "cell_type": "code",
   "execution_count": 9,
   "metadata": {},
   "outputs": [],
   "source": [
    "!!pip install geopy\n",
    "from geopy import distance\n",
    "import datetime\n",
    "import re"
   ]
  },
  {
   "cell_type": "markdown",
   "metadata": {},
   "source": [
    "7) Create variables 'strdate1' and 'strdate2' with date and time information for the 3rd shooting and 1st shot spotter incidents."
   ]
  },
  {
   "cell_type": "code",
   "execution_count": 10,
   "metadata": {},
   "outputs": [
    {
     "name": "stdout",
     "output_type": "stream",
     "text": [
      "Distance between events is  2.1105175960629547  km\n",
      "1996-02-25 12:15:00\n",
      "2018-02-06 04:12:47\n",
      "Time between events is  -11543997\n"
     ]
    }
   ],
   "source": [
    "pt1 = [shootings_raw.loc[3,\"LATITUDE\"],shootings_raw.loc[3,\"LONGITUDE\"]]\n",
    "pt2 = [shotspotter_raw.loc[1,\"LATITUDE\"],shotspotter_raw.loc[1,\"LONGITUDE\"]]\n",
    "print(\"Distance between events is \", distance.distance(pt1, pt2).km, ' km')\n",
    "strdate1 = shootings_raw.loc[3,\"DATE\"]\n",
    "strdate2 = shotspotter_raw.loc[1,\"DATE\"]\n",
    "date1 = datetime.datetime.strptime(strdate1, \"%m/%d/%Y %H:%M:%S %p\")\n",
    "date2 = datetime.datetime.strptime(strdate2, \"%m/%d/%Y %H:%M:%S %p\")\n",
    "dt = date1-date2\n",
    "print(date1)\n",
    "print(date2)\n",
    "print(\"Time between events is \", int(dt.total_seconds()/60))"
   ]
  },
  {
   "cell_type": "markdown",
   "metadata": {},
   "source": [
    "8) Define a function to get the linking distribution for a specified year and month"
   ]
  },
  {
   "cell_type": "code",
   "execution_count": 11,
   "metadata": {},
   "outputs": [],
   "source": [
    "def LD(shooting_data,shotspotter_data,year,month,delta,tau):\n",
    "    #install libraries\n",
    "    from geopy import distance\n",
    "    import datetime\n",
    "    #get the threshold values\n",
    "    missing = 0\n",
    "    delta = delta\n",
    "    tau = tau\n",
    "    shotspotter_data = shotspotter_data[shotspotter_data[\"YEAR\"]==year]\n",
    "    shotspotter_data = shotspotter_data[shotspotter_data[\"MONTH\"]==month]\n",
    "    shooting_data = shooting_data[shooting_data[\"YEAR\"]==year]\n",
    "    shooting_data = shooting_data[shooting_data[\"MONTH\"]==month]\n",
    "    shotspotter_data = shotspotter_data.reset_index(drop = True)\n",
    "    shooting_data = shooting_data.reset_index(drop=True)\n",
    "    #define the function to determine linkage of shotspotter and shooting incidents based on the threshold values\n",
    "    def linked(P, T, delta, tau):\n",
    "        for k in range(P.shape[0]):\n",
    "            for q in range(P.shape[1]):\n",
    "                if P[k][q] < delta and T[k][q] < tau and T[k][q] >= 0:\n",
    "                    shooting_data.loc[k, 'spotted'] = shooting_data.loc[k,'spotted']+ 1\n",
    "    #Create the P and T matrices\n",
    "    P = np.zeros((shooting_data.shape[0], shotspotter_data.shape[0]))\n",
    "    T = np.zeros((shooting_data.shape[0], shotspotter_data.shape[0]))\n",
    "    for i in shooting_data.index:\n",
    "        for j in shotspotter_data.index:\n",
    "            pt1 = [shooting_data.loc[i,\"LATITUDE\"],shooting_data.loc[i,\"LONGITUDE\"]]\n",
    "            pt2 = [shotspotter_data.loc[j,\"LATITUDE\"],shotspotter_data.loc[j,\"LONGITUDE\"]]\n",
    "            P[i][j] = distance.distance(pt1, pt2).km\n",
    "            strdate1 = shooting_data.loc[i,\"DATE\"]\n",
    "            strdate2 = shotspotter_data.loc[j,\"DATE\"]\n",
    "            date1 = datetime.datetime.strptime(strdate1, \"%m/%d/%Y %H:%M:%S %p\")\n",
    "            date2 = datetime.datetime.strptime(strdate2, \"%m/%d/%Y %H:%M:%S %p\")\n",
    "            dt = date1-date2\n",
    "            T[i][j] = int(dt.total_seconds() / 60)\n",
    "    #Apply the function linked to the P and T matrices\n",
    "    linked(P,T,delta,tau)\n",
    "    #return the linking distribution\n",
    "    return shooting_data['spotted'].value_counts()"
   ]
  },
  {
   "cell_type": "markdown",
   "metadata": {},
   "source": [
    "9) Define  a function to get for a specified year the monthly linkage ratio, total number of shooting incidents, and number of linked shooting incidents"
   ]
  },
  {
   "cell_type": "code",
   "execution_count": 12,
   "metadata": {},
   "outputs": [],
   "source": [
    "def linkageratio(year,delta,tau,shootings_raw,shotspotter_raw):\n",
    "    tot= [[]] * 12\n",
    "    linked = [[]] * 12\n",
    "    ratio = [[]]*12\n",
    "    L = [[]]*12\n",
    "    for mo in np.arange(0,12,1):\n",
    "        L[mo]=LD(shootings_raw,shotspotter_raw,year,mo+1,delta,tau)\n",
    "        tot[mo] = np.sum(L[mo])\n",
    "        if 0 in L[mo].index:\n",
    "            linked[mo] = tot[mo]-L[mo][0]\n",
    "        else:\n",
    "            linked[mo] = tot[mo]\n",
    "        ratio[mo] = linked[mo]/tot[mo]\n",
    "    return [ratio,linked,tot]"
   ]
  },
  {
   "cell_type": "markdown",
   "metadata": {},
   "source": [
    "10) Variables used to store for a specified year the monthly total shootings, total linked shootings, and linking ratios."
   ]
  },
  {
   "cell_type": "code",
   "execution_count": 13,
   "metadata": {},
   "outputs": [],
   "source": [
    "yrtot= [[]] * 4\n",
    "yrlinked=[[]]*4\n",
    "yrratio=[[]]*4"
   ]
  },
  {
   "cell_type": "markdown",
   "metadata": {},
   "source": [
    "11) Check linkageratio function for the year 2018"
   ]
  },
  {
   "cell_type": "code",
   "execution_count": 14,
   "metadata": {},
   "outputs": [],
   "source": [
    "[yrratio[0],yrlinked[0],yrtot[0]]=linkageratio(2018,delta,tau,shootings_raw,shotspotter_raw) #year 0 =2018"
   ]
  },
  {
   "cell_type": "code",
   "execution_count": 15,
   "metadata": {},
   "outputs": [
    {
     "name": "stdout",
     "output_type": "stream",
     "text": [
      "[0.0, 0.3333333333333333, 0.4, 0.23076923076923078, 0.5909090909090909, 0.7419354838709677, 0.6538461538461539, 0.5833333333333334, 0.47368421052631576, 0.5789473684210527, 0.3333333333333333, 0.6363636363636364]\n",
      "[0, 1, 4, 3, 13, 23, 17, 14, 9, 11, 3, 7]\n",
      "[6, 3, 10, 13, 22, 31, 26, 24, 19, 19, 9, 11]\n"
     ]
    }
   ],
   "source": [
    "print(yrratio[0])\n",
    "print(yrlinked[0])\n",
    "print(yrtot[0])"
   ]
  },
  {
   "cell_type": "markdown",
   "metadata": {},
   "source": [
    "12)  Run linkageratio function for all 4 years"
   ]
  },
  {
   "cell_type": "code",
   "execution_count": 16,
   "metadata": {},
   "outputs": [],
   "source": [
    "for i in np.arange(0,4,1):\n",
    "    [yrratio[i],yrlinked[i],yrtot[i]]=linkageratio(2018+i,delta,tau,shootings_raw,shotspotter_raw)"
   ]
  },
  {
   "cell_type": "code",
   "execution_count": 17,
   "metadata": {},
   "outputs": [
    {
     "name": "stdout",
     "output_type": "stream",
     "text": [
      "[0.0, 0.3333333333333333, 0.4, 0.23076923076923078, 0.5909090909090909, 0.7419354838709677, 0.6538461538461539, 0.5833333333333334, 0.47368421052631576, 0.5789473684210527, 0.3333333333333333, 0.6363636363636364]\n",
      "[0.3333333333333333, 0.6363636363636364, 0.7777777777777778, 0.3076923076923077, 0.7, 0.6666666666666666, 0.375, 0.6666666666666666, 0.7, 0.5, 0.375, 0.8]\n",
      "[0.4, 0.8095238095238095, 0.0, 0.4666666666666667, 0.7777777777777778, 0.525, 0.5384615384615384, 0.5, 0.45161290322580644, 0.6363636363636364, 0.6470588235294118, 0.47058823529411764]\n",
      "[0.2857142857142857, 0.29411764705882354, 0.8076923076923077, 0.46153846153846156, 0.6052631578947368, 0.47368421052631576, 0.56, 0.3783783783783784, 0.6, 0.5882352941176471, 0.6666666666666666, 0.5]\n"
     ]
    }
   ],
   "source": [
    "print(yrratio[0])\n",
    "print(yrratio[1])\n",
    "print(yrratio[2])\n",
    "print(yrratio[3])"
   ]
  },
  {
   "cell_type": "markdown",
   "metadata": {},
   "source": [
    "13) Visualize output for 4 years"
   ]
  },
  {
   "cell_type": "code",
   "execution_count": 18,
   "metadata": {},
   "outputs": [
    {
     "name": "stdout",
     "output_type": "stream",
     "text": [
      "[ 6.66666667 11.66666667  6.66666667 13.66666667 16.66666667 28.66666667\n",
      " 22.66666667 23.         23.33333333 17.66666667 11.33333333 12.66666667]\n",
      "[ 1.66666667  8.33333333  3.66666667  4.66666667 11.33333333 18.\n",
      " 12.33333333 13.         12.33333333 10.33333333  5.66666667  7.66666667]\n"
     ]
    }
   ],
   "source": [
    "x = np.arange(0, 12)\n",
    "avgtot = np.add(np.add(yrtot[0],yrtot[1],),yrtot[2])/3\n",
    "avglinked = np.add(np.add(yrlinked[0],yrlinked[1],),yrlinked[2])/3\n",
    "print(avgtot)\n",
    "print(avglinked)"
   ]
  },
  {
   "cell_type": "code",
   "execution_count": 19,
   "metadata": {},
   "outputs": [
    {
     "data": {
      "text/plain": [
       "[21, 17, 26, 13, 38, 38, 50, 37, 25, 17, 21, 28]"
      ]
     },
     "execution_count": 19,
     "metadata": {},
     "output_type": "execute_result"
    }
   ],
   "source": [
    "yrtot[3] #total shootings in 2020"
   ]
  },
  {
   "cell_type": "code",
   "execution_count": 20,
   "metadata": {},
   "outputs": [
    {
     "name": "stderr",
     "output_type": "stream",
     "text": [
      "C:\\Users\\pisihara\\AppData\\Local\\Continuum\\anaconda3\\lib\\site-packages\\ipykernel_launcher.py:13: RuntimeWarning: invalid value encountered in longlong_scalars\n",
      "  del sys.path[0]\n"
     ]
    },
    {
     "name": "stdout",
     "output_type": "stream",
     "text": [
      "Beat  311\n",
      "2018-21 Total Shooting=51\n",
      "2018-21 Number Linked =16\n",
      "2018-21 % Linked =31.372549019607842\n",
      "Beat  312\n",
      "2018-21 Total Shooting=111\n",
      "2018-21 Number Linked =67\n",
      "2018-21 % Linked =60.36036036036036\n",
      "Beat  313\n",
      "2018-21 Total Shooting=80\n",
      "2018-21 Number Linked =32\n",
      "2018-21 % Linked =40.0\n",
      "Beat  314\n",
      "2018-21 Total Shooting=21\n",
      "2018-21 Number Linked =8\n",
      "2018-21 % Linked =38.095238095238095\n",
      "Beat  321\n",
      "2018-21 Total Shooting=105\n",
      "2018-21 Number Linked =47\n",
      "2018-21 % Linked =44.76190476190476\n",
      "Beat  322\n",
      "2018-21 Total Shooting=105\n",
      "2018-21 Number Linked =57\n",
      "2018-21 % Linked =54.285714285714285\n",
      "Beat  323\n",
      "2018-21 Total Shooting=93\n",
      "2018-21 Number Linked =48\n",
      "2018-21 % Linked =51.61290322580645\n",
      "Beat  324\n",
      "2018-21 Total Shooting=78\n",
      "2018-21 Number Linked =47\n",
      "2018-21 % Linked =60.256410256410255\n",
      "Beat  331\n",
      "2018-21 Total Shooting=90\n",
      "2018-21 Number Linked =35\n",
      "2018-21 % Linked =38.888888888888886\n",
      "Beat  332\n",
      "2018-21 Total Shooting=96\n",
      "2018-21 Number Linked =56\n",
      "2018-21 % Linked =58.333333333333336\n",
      "Beat  333\n",
      "2018-21 Total Shooting=36\n",
      "2018-21 Number Linked =24\n",
      "2018-21 % Linked =66.66666666666667\n",
      "Beat  334\n",
      "2018-21 Total Shooting=49\n",
      "2018-21 Number Linked =29\n",
      "2018-21 % Linked =59.183673469387756\n"
     ]
    }
   ],
   "source": [
    "## Beat analysis\n",
    "total_linked = 0\n",
    "beat_array = [311,312,313,314,321,322,323,324,331,332,333,334]\n",
    "yrratio_beat = [[]]*4\n",
    "yrlinked_beat = [[]]*4\n",
    "yrtot_beat = [[]]*4\n",
    "for k in beat_array:\n",
    "    beat = k\n",
    "    shotspotter=shotspotter_raw[shotspotter_raw[\"BEAT\"]==beat]\n",
    "    shootings=shootings_raw[shootings_raw[\"BEAT\"]==beat]\n",
    "    for i in np.arange(0,4,1):\n",
    "        [yrratio_beat[i],yrlinked_beat[i],yrtot_beat[i]]=linkageratio(2018+i,delta,tau,shootings,shotspotter)\n",
    "    linked= [(g + h+i+j)  for g, h,i,j in zip(yrlinked_beat[0],yrlinked_beat[1],yrlinked_beat[2],yrlinked_beat[3])]\n",
    "    total= [(g + h+i+j) for g, h,i,j in zip(yrtot_beat[0],yrtot_beat[1],yrtot_beat[2],yrtot_beat[3])]\n",
    "    total_linked = total_linked + sum(linked)\n",
    "    print('Beat ',beat)\n",
    "    print('2018-21 Total Shooting='+str(sum(total)))\n",
    "    print('2018-21 Number Linked ='+str(sum(linked)))\n",
    "    print('2018-21 % Linked ='+str(100*sum(linked)/sum(total)))"
   ]
  },
  {
   "cell_type": "code",
   "execution_count": 21,
   "metadata": {},
   "outputs": [
    {
     "name": "stdout",
     "output_type": "stream",
     "text": [
      "466\n"
     ]
    }
   ],
   "source": [
    "print(total_linked)"
   ]
  },
  {
   "cell_type": "code",
   "execution_count": 27,
   "metadata": {},
   "outputs": [
    {
     "data": {
      "image/png": "[encoded data removed]",
      "text/plain": [
       "<matplotlib.figure.Figure at 0x28988b235c0>"
      ]
     },
     "metadata": {
      "needs_background": "light"
     },
     "output_type": "display_data"
    }
   ],
   "source": [
    "plt.rc('font', size=10)\n",
    "plt.figure(figsize=[8,5])\n",
    "plt.bar(x-.15,avgtot,width = .3,color = 'k',alpha=.1)\n",
    "plt.bar(x-.15,avglinked,width = .3,color = 'k',alpha=.4)\n",
    "plt.bar(x+.15,yrtot[3],width = .3,color = 'k',alpha=.7)\n",
    "plt.bar(x+.15,yrlinked[3],width = .3,color = 'k',alpha=1)\n",
    "ratio= [(g + h+i) / 3 for g, h,i in zip(yrratio[0],yrratio[1],yrratio[2])]\n",
    "total= [(g + h+i) / 3 for g, h,i in zip(yrtot[0],yrtot[1],yrtot[2])]\n",
    "for j in np.arange(0,12,1):        \n",
    "    plt.text(j-.35,total[j]+.1,str(int(round(ratio[j]*100,0)))+'%',size = 7)\n",
    "for j in np.arange(0,12,1):\n",
    "        plt.text(j,yrtot[3][j]+.1,str(int(round(yrratio[3][j]*100,0)))+'%',size = 7)\n",
    "classes=[\"JAN\",\"FEB\",\"MAR\",\"APR\",\"MAY\",\"JUNE\",\"JULY\",\"AUG\",\"SEP\",\"OCT\",\"NOV\",\"DEC\"]\n",
    "ps = np.arange(len(classes))\n",
    "plt.xticks(ps, classes, alpha=0.7)\n",
    "plt.ylabel('Total Number Shootings')\n",
    "plt.title(\"D3 Shotspotter Linkage Ratios\",size=14)\n",
    "plt.legend(['2018-2020 Average Total','2018-2020 Average Linked','2021 Total','2021 Linked'],loc='upper right',fontsize='xx-small')\n",
    "plt.text(0,50,'2018-20 Mean Monthly Shooting='+str(np.round(np.mean(total),0)),size =7)\n",
    "plt.text(0,48,'2018-20 Mean %Shootings Detected='+str(100*round(np.mean(ratio),2))+'%',size = 7)\n",
    "plt.text(0.,46,'Data from the Chicago Data Portal 1/4/2022',size=5)\n",
    "plt.savefig(\"D3linkage.png\")"
   ]
  },
  {
   "cell_type": "code",
   "execution_count": null,
   "metadata": {},
   "outputs": [],
   "source": []
  }
 ],
 "metadata": {
  "kernelspec": {
   "display_name": "Python 3",
   "language": "python",
   "name": "python3"
  },
  "language_info": {
   "codemirror_mode": {
    "name": "ipython",
    "version": 3
   },
   "file_extension": ".py",
   "mimetype": "text/x-python",
   "name": "python",
   "nbconvert_exporter": "python",
   "pygments_lexer": "ipython3",
   "version": "3.6.4"
  }
 },
 "nbformat": 4,
 "nbformat_minor": 4
}
