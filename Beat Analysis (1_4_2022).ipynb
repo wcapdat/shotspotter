{
 "cells": [
  {
   "cell_type": "markdown",
   "metadata": {},
   "source": [
    "<h3> DATA ANALYSIS - CPD Beats</h3>"
   ]
  },
  {
   "cell_type": "markdown",
   "metadata": {},
   "source": [
    "1) Specify the Parameters\n",
    "\n",
    "Beats of District 3: \n",
    "\n",
    "311\n",
    "312\n",
    "313\n",
    "314\n",
    "321\n",
    "322\n",
    "323\n",
    "324\n",
    "331\n",
    "332\n",
    "333\n",
    "334"
   ]
  },
  {
   "cell_type": "code",
   "execution_count": 1,
   "metadata": {},
   "outputs": [],
   "source": [
    "district=3  #Chicago police district\n",
    "delta=.3  #distance threshold in kilometers\n",
    "tau=30  #time threshold in minutes\n",
    "beat_array = [311,312,313,314,321,322,323,324,331,332,333,334]"
   ]
  },
  {
   "cell_type": "markdown",
   "metadata": {},
   "source": [
    "2) Import Libraries"
   ]
  },
  {
   "cell_type": "code",
   "execution_count": 2,
   "metadata": {},
   "outputs": [],
   "source": [
    "import numpy as np\n",
    "import pandas as pd\n",
    "from matplotlib import pyplot as plt"
   ]
  },
  {
   "cell_type": "markdown",
   "metadata": {},
   "source": [
    "3) Import the Chicago shotspotter data and filter for the specified district and beat."
   ]
  },
  {
   "cell_type": "code",
   "execution_count": 3,
   "metadata": {},
   "outputs": [
    {
     "data": {
      "text/html": [
       "<div>\n",
       "<style scoped>\n",
       "    .dataframe tbody tr th:only-of-type {\n",
       "        vertical-align: middle;\n",
       "    }\n",
       "\n",
       "    .dataframe tbody tr th {\n",
       "        vertical-align: top;\n",
       "    }\n",
       "\n",
       "    .dataframe thead th {\n",
       "        text-align: right;\n",
       "    }\n",
       "</style>\n",
       "<table border=\"1\" class=\"dataframe\">\n",
       "  <thead>\n",
       "    <tr style=\"text-align: right;\">\n",
       "      <th></th>\n",
       "      <th>DATE</th>\n",
       "      <th>BEAT</th>\n",
       "      <th>YEAR</th>\n",
       "      <th>MONTH</th>\n",
       "      <th>LATITUDE</th>\n",
       "      <th>LONGITUDE</th>\n",
       "    </tr>\n",
       "  </thead>\n",
       "  <tbody>\n",
       "    <tr>\n",
       "      <th>0</th>\n",
       "      <td>11/29/2019 11:57:40 PM</td>\n",
       "      <td>323.0</td>\n",
       "      <td>2019.0</td>\n",
       "      <td>11.0</td>\n",
       "      <td>41.764712</td>\n",
       "      <td>-87.611835</td>\n",
       "    </tr>\n",
       "  </tbody>\n",
       "</table>\n",
       "</div>"
      ],
      "text/plain": [
       "                     DATE   BEAT    YEAR  MONTH   LATITUDE  LONGITUDE\n",
       "0  11/29/2019 11:57:40 PM  323.0  2019.0   11.0  41.764712 -87.611835"
      ]
     },
     "execution_count": 3,
     "metadata": {},
     "output_type": "execute_result"
    }
   ],
   "source": [
    "ss_raw = pd.read_csv(\"Shotspotter_2022.csv\")\n",
    "shotspotter_raw=ss_raw[[\"BEAT\",\"DATE\",\"DISTRICT\",\"LATITUDE\",\"LONGITUDE\"]]\n",
    "shotspotter_raw=shotspotter_raw[shotspotter_raw[\"DISTRICT\"]==district]\n",
    "#shotspotter_raw=shotspotter_raw[shotspotter_raw[\"BEAT\"]==beat]\n",
    "shotspotter_raw=shotspotter_raw.dropna()\n",
    "for i in shotspotter_raw.index:\n",
    "    x=shotspotter_raw.loc[i,\"DATE\"]\n",
    "    x1=x.split(' ')\n",
    "    x2=x1[0].split('/')\n",
    "    shotspotter_raw.loc[i,\"time\"]=x1[1]\n",
    "    shotspotter_raw.loc[i,'MONTH'] =int(x2[0])\n",
    "    shotspotter_raw.loc[i,\"day\"]=x2[1]\n",
    "    shotspotter_raw.loc[i,\"YEAR\"]=int(x2[2])\n",
    "shotspotter_raw=shotspotter_raw[[\"DATE\",\"BEAT\", \"YEAR\",\"MONTH\",\"LATITUDE\",\"LONGITUDE\"]]\n",
    "shotspotter_raw=shotspotter_raw.reset_index(drop=True)\n",
    "shotspotter_raw.head(1)"
   ]
  },
  {
   "cell_type": "markdown",
   "metadata": {},
   "source": [
    "4) Streamline the columns and created a new column 'spotted' to show which are linked to shotspotter events."
   ]
  },
  {
   "cell_type": "code",
   "execution_count": 4,
   "metadata": {},
   "outputs": [
    {
     "data": {
      "text/html": [
       "<div>\n",
       "<style scoped>\n",
       "    .dataframe tbody tr th:only-of-type {\n",
       "        vertical-align: middle;\n",
       "    }\n",
       "\n",
       "    .dataframe tbody tr th {\n",
       "        vertical-align: top;\n",
       "    }\n",
       "\n",
       "    .dataframe thead th {\n",
       "        text-align: right;\n",
       "    }\n",
       "</style>\n",
       "<table border=\"1\" class=\"dataframe\">\n",
       "  <thead>\n",
       "    <tr style=\"text-align: right;\">\n",
       "      <th></th>\n",
       "      <th>DATE</th>\n",
       "      <th>BEAT</th>\n",
       "      <th>YEAR</th>\n",
       "      <th>MONTH</th>\n",
       "      <th>LATITUDE</th>\n",
       "      <th>LONGITUDE</th>\n",
       "    </tr>\n",
       "  </thead>\n",
       "  <tbody>\n",
       "    <tr>\n",
       "      <th>0</th>\n",
       "      <td>11/29/2019 11:57:40 PM</td>\n",
       "      <td>323.0</td>\n",
       "      <td>2019.0</td>\n",
       "      <td>11.0</td>\n",
       "      <td>41.764712</td>\n",
       "      <td>-87.611835</td>\n",
       "    </tr>\n",
       "    <tr>\n",
       "      <th>1</th>\n",
       "      <td>02/06/2018 04:12:47 PM</td>\n",
       "      <td>324.0</td>\n",
       "      <td>2018.0</td>\n",
       "      <td>2.0</td>\n",
       "      <td>41.759659</td>\n",
       "      <td>-87.592333</td>\n",
       "    </tr>\n",
       "  </tbody>\n",
       "</table>\n",
       "</div>"
      ],
      "text/plain": [
       "                     DATE   BEAT    YEAR  MONTH   LATITUDE  LONGITUDE\n",
       "0  11/29/2019 11:57:40 PM  323.0  2019.0   11.0  41.764712 -87.611835\n",
       "1  02/06/2018 04:12:47 PM  324.0  2018.0    2.0  41.759659 -87.592333"
      ]
     },
     "execution_count": 4,
     "metadata": {},
     "output_type": "execute_result"
    }
   ],
   "source": [
    "for i in shotspotter_raw.index:\n",
    "    x=shotspotter_raw.loc[i,\"DATE\"]\n",
    "    x1=x.split(' ')\n",
    "    x2=x1[0].split('/')\n",
    "    shotspotter_raw.loc[i,'MONTH'] =int(x2[0])\n",
    "    shotspotter_raw.loc[i,'YEAR'] =int(x2[2])\n",
    "shotspotter_raw=shotspotter_raw[[\"DATE\",\"BEAT\",\"YEAR\",\"MONTH\",\"LATITUDE\",\"LONGITUDE\"]]\n",
    "shotspotter_raw.head(2)"
   ]
  },
  {
   "cell_type": "markdown",
   "metadata": {},
   "source": [
    "5) Read in the shooting event data and add a column for spotted (linked) shootings."
   ]
  },
  {
   "cell_type": "code",
   "execution_count": 5,
   "metadata": {},
   "outputs": [
    {
     "data": {
      "text/html": [
       "<div>\n",
       "<style scoped>\n",
       "    .dataframe tbody tr th:only-of-type {\n",
       "        vertical-align: middle;\n",
       "    }\n",
       "\n",
       "    .dataframe tbody tr th {\n",
       "        vertical-align: top;\n",
       "    }\n",
       "\n",
       "    .dataframe thead th {\n",
       "        text-align: right;\n",
       "    }\n",
       "</style>\n",
       "<table border=\"1\" class=\"dataframe\">\n",
       "  <thead>\n",
       "    <tr style=\"text-align: right;\">\n",
       "      <th></th>\n",
       "      <th>DATE</th>\n",
       "      <th>YEAR</th>\n",
       "      <th>MONTH</th>\n",
       "      <th>DISTRICT</th>\n",
       "      <th>BEAT</th>\n",
       "      <th>LATITUDE</th>\n",
       "      <th>LONGITUDE</th>\n",
       "      <th>LOCATION</th>\n",
       "      <th>spotted</th>\n",
       "    </tr>\n",
       "  </thead>\n",
       "  <tbody>\n",
       "    <tr>\n",
       "      <th>0</th>\n",
       "      <td>01/23/1996 04:35:00 PM</td>\n",
       "      <td>1996.0</td>\n",
       "      <td>1</td>\n",
       "      <td>3.0</td>\n",
       "      <td>313.0</td>\n",
       "      <td>41.784330</td>\n",
       "      <td>-87.613289</td>\n",
       "      <td>POINT (-87.613288547471 41.784329668947)</td>\n",
       "      <td>0</td>\n",
       "    </tr>\n",
       "    <tr>\n",
       "      <th>1</th>\n",
       "      <td>02/04/1996 07:00:00 AM</td>\n",
       "      <td>1996.0</td>\n",
       "      <td>2</td>\n",
       "      <td>3.0</td>\n",
       "      <td>323.0</td>\n",
       "      <td>41.765432</td>\n",
       "      <td>-87.614685</td>\n",
       "      <td>POINT (-87.61468534612 41.765431654142)</td>\n",
       "      <td>0</td>\n",
       "    </tr>\n",
       "  </tbody>\n",
       "</table>\n",
       "</div>"
      ],
      "text/plain": [
       "                     DATE    YEAR  MONTH  DISTRICT   BEAT   LATITUDE  \\\n",
       "0  01/23/1996 04:35:00 PM  1996.0      1       3.0  313.0  41.784330   \n",
       "1  02/04/1996 07:00:00 AM  1996.0      2       3.0  323.0  41.765432   \n",
       "\n",
       "   LONGITUDE                                  LOCATION  spotted  \n",
       "0 -87.613289  POINT (-87.613288547471 41.784329668947)        0  \n",
       "1 -87.614685   POINT (-87.61468534612 41.765431654142)        0  "
      ]
     },
     "execution_count": 5,
     "metadata": {},
     "output_type": "execute_result"
    }
   ],
   "source": [
    "shootings_raw = pd.read_csv('Homicide_data_to_2022.csv')\n",
    "shootings_raw=shootings_raw[shootings_raw[\"DISTRICT\"]==district]\n",
    "#shootings_raw=shootings_raw[shootings_raw[\"BEAT\"]==beat]\n",
    "shootings_raw=shootings_raw[shootings_raw[\"GUNSHOT_INJURY_I\"]=='YES']\n",
    "for i in shootings_raw.index:\n",
    "    x=shootings_raw.loc[i,\"DATE\"]\n",
    "    x1=x.split(' ')\n",
    "    x2=x1[0].split('/')\n",
    "    shootings_raw.loc[i,'MONTH'] =int(x2[0])\n",
    "    shootings_raw.loc[i,'YEAR'] =int(x2[2])\n",
    "shootings_raw= shootings_raw[['DATE','YEAR','MONTH','DISTRICT','BEAT','LATITUDE', 'LONGITUDE','LOCATION']]\n",
    "shootings_raw['spotted'] = 0\n",
    "shootings_raw=shootings_raw.reset_index(drop=True)\n",
    "shootings_raw.head(2)"
   ]
  },
  {
   "cell_type": "code",
   "execution_count": 6,
   "metadata": {},
   "outputs": [
    {
     "data": {
      "text/plain": [
       "321.0    371\n",
       "322.0    370\n",
       "324.0    359\n",
       "312.0    346\n",
       "323.0    342\n",
       "313.0    318\n",
       "331.0    294\n",
       "332.0    288\n",
       "334.0    199\n",
       "311.0    194\n",
       "314.0    116\n",
       "333.0    111\n",
       "Name: BEAT, dtype: int64"
      ]
     },
     "execution_count": 6,
     "metadata": {},
     "output_type": "execute_result"
    }
   ],
   "source": [
    "shootings_raw[\"BEAT\"].value_counts(dropna=False)"
   ]
  },
  {
   "cell_type": "markdown",
   "metadata": {},
   "source": [
    "6) Import libraries used to link positions and times of shotspotter and shooting incidents."
   ]
  },
  {
   "cell_type": "code",
   "execution_count": 7,
   "metadata": {},
   "outputs": [],
   "source": [
    "!!pip install geopy\n",
    "from geopy import distance\n",
    "import datetime\n",
    "import re"
   ]
  },
  {
   "cell_type": "markdown",
   "metadata": {},
   "source": [
    "7) Define a function to get the linking distribution for a specified year and month"
   ]
  },
  {
   "cell_type": "code",
   "execution_count": 8,
   "metadata": {},
   "outputs": [],
   "source": [
    "def LD(shooting_data,shotspotter_data,year,month,delta,tau):\n",
    "    #install libraries\n",
    "    from geopy import distance\n",
    "    import datetime\n",
    "    #get the threshold values\n",
    "    delta = delta\n",
    "    tau = tau\n",
    "    shotspotter_data = shotspotter_data[shotspotter_data[\"YEAR\"]==year]\n",
    "    shotspotter_data = shotspotter_data[shotspotter_data[\"MONTH\"]==month]\n",
    "    shooting_data = shooting_data[shooting_data[\"YEAR\"]==year]\n",
    "    shooting_data = shooting_data[shooting_data[\"MONTH\"]==month]\n",
    "    shotspotter_data = shotspotter_data.reset_index(drop = True)\n",
    "    shooting_data = shooting_data.reset_index(drop=True)\n",
    "    #define the function to determine linkage of shotspotter and shooting incidents based on the threshold values\n",
    "    def linked(P, T, delta, tau):\n",
    "        for k in range(P.shape[0]):\n",
    "            for q in range(P.shape[1]):\n",
    "                if P[k][q] < delta and T[k][q] < tau and T[k][q] >= 0:\n",
    "                    shooting_data.loc[k, 'spotted'] = shooting_data.loc[k,'spotted']+ 1\n",
    "    #Create the P and T matrices\n",
    "    P = np.zeros((shooting_data.shape[0], shotspotter_data.shape[0]))\n",
    "    T = np.zeros((shooting_data.shape[0], shotspotter_data.shape[0]))\n",
    "    for i in shooting_data.index:\n",
    "        for j in shotspotter_data.index:\n",
    "            pt1 = [shooting_data.loc[i,\"LATITUDE\"],shooting_data.loc[i,\"LONGITUDE\"]]\n",
    "            pt2 = [shotspotter_data.loc[j,\"LATITUDE\"],shotspotter_data.loc[j,\"LONGITUDE\"]]\n",
    "            P[i][j] = distance.distance(pt1, pt2).km\n",
    "            strdate1 = shooting_data.loc[i,\"DATE\"]\n",
    "            strdate2 = shotspotter_data.loc[j,\"DATE\"]\n",
    "            date1 = datetime.datetime.strptime(strdate1, \"%m/%d/%Y %H:%M:%S %p\")\n",
    "            date2 = datetime.datetime.strptime(strdate2, \"%m/%d/%Y %H:%M:%S %p\")\n",
    "            dt = date1-date2\n",
    "            T[i][j] = int(dt.total_seconds() / 60)\n",
    "    #Apply the function linked to the P and T matrices\n",
    "    linked(P,T,delta,tau)\n",
    "    #return the linking distribution\n",
    "    return shooting_data['spotted'].value_counts()"
   ]
  },
  {
   "cell_type": "markdown",
   "metadata": {},
   "source": [
    "8) Define  a function to get for a specified year the monthly linkage ratio, total number of shooting incidents, and number of linked shooting incidents"
   ]
  },
  {
   "cell_type": "code",
   "execution_count": 9,
   "metadata": {},
   "outputs": [],
   "source": [
    "def linkageratio(year,delta,tau,shootings_raw,shotspotter_raw):\n",
    "    tot= [[]] * 12\n",
    "    linked = [[]] * 12\n",
    "    ratio = [[]]*12\n",
    "    L = [[]]*12\n",
    "    for mo in np.arange(0,12,1):\n",
    "        L[mo]=LD(shootings_raw,shotspotter_raw,year,mo+1,delta,tau)\n",
    "        tot[mo] = np.sum(L[mo])\n",
    "        if 0 in L[mo].index:\n",
    "            linked[mo] = tot[mo]-L[mo][0]\n",
    "        else:\n",
    "            linked[mo] = tot[mo]\n",
    "        if tot[mo]>0:\n",
    "            ratio[mo] = linked[mo]/tot[mo]\n",
    "        else:\n",
    "            ratio[mo]=0\n",
    "    return [ratio,linked,tot]"
   ]
  },
  {
   "cell_type": "markdown",
   "metadata": {},
   "source": [
    "9) Variables used to store for a specified year the monthly total shootings, total linked shootings, and linking ratios."
   ]
  },
  {
   "cell_type": "code",
   "execution_count": 10,
   "metadata": {},
   "outputs": [],
   "source": [
    "yrtot= [[]] * 4\n",
    "yrlinked=[[]]*4\n",
    "yrratio=[[]]*4"
   ]
  },
  {
   "cell_type": "markdown",
   "metadata": {},
   "source": [
    "10) Check linkageratio function for the year 2018"
   ]
  },
  {
   "cell_type": "code",
   "execution_count": 11,
   "metadata": {},
   "outputs": [],
   "source": [
    "#[yrratio[0],yrlinked[0],yrtot[0]]=linkageratio(2018,delta,tau,shootings_raw,shotspotter_raw) #year 0 =2018"
   ]
  },
  {
   "cell_type": "code",
   "execution_count": 12,
   "metadata": {},
   "outputs": [],
   "source": [
    "#print(yrratio[0])\n",
    "#print(yrlinked[0])\n",
    "#print(yrtot[0])"
   ]
  },
  {
   "cell_type": "markdown",
   "metadata": {},
   "source": [
    "11) Run the linkageratio function for all 4 years"
   ]
  },
  {
   "cell_type": "code",
   "execution_count": 13,
   "metadata": {},
   "outputs": [],
   "source": [
    "#for i in np.arange(0,4,1):\n",
    "#    [yrratio[i],yrlinked[i],yrtot[i]]=linkageratio(2018+i,delta,tau,shootings_raw,shotspotter_raw)"
   ]
  },
  {
   "cell_type": "markdown",
   "metadata": {},
   "source": [
    "12) Get the total shootings and total number linked between 2018-2021"
   ]
  },
  {
   "cell_type": "code",
   "execution_count": 42,
   "metadata": {
    "scrolled": true
   },
   "outputs": [
    {
     "name": "stdout",
     "output_type": "stream",
     "text": [
      "Beat  311\n",
      "2018-21 Total Shooting=51\n",
      "2018-21 Number Linked =16\n",
      "2018-21 % Linked =31.372549019607842\n",
      "Beat  312\n",
      "2018-21 Total Shooting=111\n",
      "2018-21 Number Linked =67\n",
      "2018-21 % Linked =60.36036036036036\n",
      "Beat  313\n",
      "2018-21 Total Shooting=80\n",
      "2018-21 Number Linked =32\n",
      "2018-21 % Linked =40.0\n",
      "Beat  314\n",
      "2018-21 Total Shooting=21\n",
      "2018-21 Number Linked =8\n",
      "2018-21 % Linked =38.095238095238095\n",
      "Beat  321\n",
      "2018-21 Total Shooting=105\n",
      "2018-21 Number Linked =47\n",
      "2018-21 % Linked =44.76190476190476\n",
      "Beat  322\n",
      "2018-21 Total Shooting=105\n",
      "2018-21 Number Linked =57\n",
      "2018-21 % Linked =54.285714285714285\n",
      "Beat  323\n",
      "2018-21 Total Shooting=93\n",
      "2018-21 Number Linked =48\n",
      "2018-21 % Linked =51.61290322580645\n",
      "Beat  324\n",
      "2018-21 Total Shooting=78\n",
      "2018-21 Number Linked =47\n",
      "2018-21 % Linked =60.256410256410255\n",
      "Beat  331\n",
      "2018-21 Total Shooting=90\n",
      "2018-21 Number Linked =35\n",
      "2018-21 % Linked =38.888888888888886\n",
      "Beat  332\n",
      "2018-21 Total Shooting=96\n",
      "2018-21 Number Linked =56\n",
      "2018-21 % Linked =58.333333333333336\n",
      "Beat  333\n",
      "2018-21 Total Shooting=36\n",
      "2018-21 Number Linked =24\n",
      "2018-21 % Linked =66.66666666666667\n",
      "Beat  334\n",
      "2018-21 Total Shooting=49\n",
      "2018-21 Number Linked =29\n",
      "2018-21 % Linked =59.183673469387756\n"
     ]
    }
   ],
   "source": [
    "total_linked = 0\n",
    "beat_tot = []\n",
    "beat_tot_ratio = []\n",
    "beat_tot_linked = []\n",
    "for k in beat_array:\n",
    "    beat = k\n",
    "    shotspotter=shotspotter_raw[shotspotter_raw[\"BEAT\"]==beat]\n",
    "    shootings=shootings_raw[shootings_raw[\"BEAT\"]==beat]\n",
    "    shotspotter=shotspotter.reset_index(drop=True)\n",
    "    shootings=shootings.reset_index(drop=True)\n",
    "    for i in np.arange(0,4,1):\n",
    "        [yrratio[i],yrlinked[i],yrtot[i]]=linkageratio(2018+i,delta,tau,shootings,shotspotter)\n",
    "    linked= [(g + h+i+j)  for g, h,i,j in zip(yrlinked[0],yrlinked[1],yrlinked[2],yrlinked[3])]\n",
    "    total= [(g + h+i+j) for g, h,i,j in zip(yrtot[0],yrtot[1],yrtot[2],yrtot[3])]\n",
    "    total_linked = total_linked + sum(linked)\n",
    "    beat_tot.append(sum(total))\n",
    "    beat_tot_linked.append(sum(linked))\n",
    "    beat_tot_ratio.append(100*sum(linked)/sum(total))\n",
    "    print('Beat ',beat)\n",
    "    print('2018-21 Total Shooting='+str(sum(total)))\n",
    "    print('2018-21 Number Linked ='+str(sum(linked)))\n",
    "    print('2018-21 % Linked ='+str(100*sum(linked)/sum(total)))"
   ]
  },
  {
   "cell_type": "code",
   "execution_count": 45,
   "metadata": {},
   "outputs": [
    {
     "name": "stdout",
     "output_type": "stream",
     "text": [
      "915\n",
      "466\n",
      "50.31813686360989\n"
     ]
    }
   ],
   "source": [
    "print(sum(beat_tot))\n",
    "print(sum(beat_tot_linked))\n",
    "print(sum(beat_tot_ratio)/12)"
   ]
  }
 ],
 "metadata": {
  "kernelspec": {
   "display_name": "Python 3",
   "language": "python",
   "name": "python3"
  },
  "language_info": {
   "codemirror_mode": {
    "name": "ipython",
    "version": 3
   },
   "file_extension": ".py",
   "mimetype": "text/x-python",
   "name": "python",
   "nbconvert_exporter": "python",
   "pygments_lexer": "ipython3",
   "version": "3.8.3"
  }
 },
 "nbformat": 4,
 "nbformat_minor": 4
}
